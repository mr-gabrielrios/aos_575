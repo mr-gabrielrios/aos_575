{
 "cells": [
  {
   "cell_type": "markdown",
   "id": "0a54441b-a8a8-42ee-9c91-5b51b51779cc",
   "metadata": {},
   "source": [
    "#### Project notes based on other presentations\n",
    "- Have a conservation check for each run\n",
    "- show diagram of grid\n",
    "- insert CFL condition\n",
    "- grid sensitivity study\n",
    "- mention the grids and discretizations\n",
    "- mention bugs or issues you ran into\n",
    "- mathematical introduction before discretization"
   ]
  },
  {
   "cell_type": "code",
   "execution_count": 1312,
   "id": "e2d36ffc-981c-4528-b3c1-97e932e86871",
   "metadata": {},
   "outputs": [],
   "source": [
    "import numpy as np\n",
    "import matplotlib\n",
    "import matplotlib.pyplot as plt\n",
    "plt.style.use('./assets/custom.mplstyle')"
   ]
  },
  {
   "cell_type": "markdown",
   "id": "50aaa0fa-eb22-4af4-8eac-8593a4599fe2",
   "metadata": {
    "tags": []
   },
   "source": [
    "#### Grid indexing philosophy"
   ]
  },
  {
   "cell_type": "markdown",
   "id": "11de5a85-b8d3-43f9-ba03-b7d496e2ff5b",
   "metadata": {},
   "source": [
    "`j` corresponds to the y-axis \\\n",
    "`i` corresponds to the x-axis"
   ]
  },
  {
   "cell_type": "markdown",
   "id": "5b23dc60-2031-4204-8e8f-07e06150b0cb",
   "metadata": {},
   "source": [
    "#### Grid basis setup"
   ]
  },
  {
   "cell_type": "code",
   "execution_count": 1313,
   "id": "bf8f6b4d-f99c-41a1-8c08-1cfa6061e297",
   "metadata": {},
   "outputs": [],
   "source": [
    "# Define grid point parameters\n",
    "x_min, x_max = [0, 1]\n",
    "z_min, z_max = [0, 1]\n",
    "dx, dz = 0.25, 0.25\n",
    "# Define base grid basis \"vectors\" (bv) to outline grid formation (step size added to maximum bound to include it)\n",
    "bv_base_x = np.arange(x_min, x_max+dx, dx)\n",
    "bv_base_z = np.arange(z_min, z_max+dz, dz)\n",
    "# Build base grid meshgrid\n",
    "base_x, base_z = np.meshgrid(bv_base_x, bv_base_z)\n",
    "\n",
    "# CFL number\n",
    "cfl = 0.5\n",
    "# Timestep (assume c = 1)\n",
    "dt = cfl*dx"
   ]
  },
  {
   "cell_type": "markdown",
   "id": "eccde99d-21eb-42a2-845e-33f23d83c0ba",
   "metadata": {},
   "source": [
    "#### Grid plotting"
   ]
  },
  {
   "cell_type": "code",
   "execution_count": 1314,
   "id": "2a9195ec-38e9-4170-b551-b692cb921f0a",
   "metadata": {},
   "outputs": [
    {
     "data": {
      "text/plain": [
       "Text(0, 0.5, 'z')"
      ]
     },
     "execution_count": 1314,
     "metadata": {},
     "output_type": "execute_result"
    },
    {
     "data": {
      "image/png": "[encoded data removed]",
      "text/plain": [
       "<Figure size 400x400 with 1 Axes>"
      ]
     },
     "metadata": {},
     "output_type": "display_data"
    }
   ],
   "source": [
    "fig, ax = plt.subplots(figsize=(4, 4))\n",
    "im_base = ax.scatter(base_x, base_z, s=5)\n",
    "\n",
    "point_labels = True\n",
    "\n",
    "# Annotate grid points for troubleshooting\n",
    "if point_labels == True:\n",
    "    # Choose type of annotation for point labels [index = (i, j) space, absolute = (x, y) space]\n",
    "    point_label_type = 'index' # choose 'index' or 'absolute'\n",
    "    point_label_skip = 2 # print grid point label every N points\n",
    "    for j, z in enumerate(base_z):\n",
    "        for i, x in enumerate(base_x):\n",
    "            point_label = '({0}, {1})'.format(j, i) if point_label_type == 'index' else '({0:.1f}, {1:.1f})'.format(x[i], z[j])\n",
    "            if j % point_label_skip == 0 and i % point_label_skip == 0:\n",
    "                ax.annotate(point_label, (x[i], z[j]), xytext=(x[i] + 0.02, z[j] - 0.01), fontsize=10, c='b')\n",
    "\n",
    "# Axis properties\n",
    "# ax.set_xlim([base_x.min(), base_x.max()])\n",
    "# ax.set_ylim([base_z.min(), base_z.max()])\n",
    "# Axis title\n",
    "ax_title_str = 'dx = {0}, dz = {1}'.format(dx, dz)\n",
    "ax.set_title(label=ax_title_str)\n",
    "ax.set_xlabel('x')\n",
    "ax.set_ylabel('z')"
   ]
  },
  {
   "cell_type": "markdown",
   "id": "e9861a1b-3fb1-4e5e-ab53-1c224595fb34",
   "metadata": {},
   "source": [
    "#### First-pass discretization\n",
    "__Spatial__: 2nd-order centered difference, B-grid (u, w on the 1/2 points, $\\rho$ on the integer points) \\\n",
    "__Temporal__: forward Euler"
   ]
  },
  {
   "cell_type": "code",
   "execution_count": 1556,
   "id": "757c2596-d7db-494a-8d7d-4457f6984501",
   "metadata": {},
   "outputs": [
    {
     "ename": "IndentationError",
     "evalue": "unexpected indent (2258318177.py, line 77)",
     "output_type": "error",
     "traceback": [
      "\u001b[0;36m  File \u001b[0;32m\"/var/folders/98/_d8bjg_j2p58806pn5mtq77r0000gn/T/ipykernel_91316/2258318177.py\"\u001b[0;36m, line \u001b[0;32m77\u001b[0m\n\u001b[0;31m    print('\\t dp/dz: {0:.2e}, z+1: {1:.2e}, z-1: {2:.2e}'.format(dp_dz, p[j+1, i], p[j-1, i], 2*dz))\u001b[0m\n\u001b[0m    ^\u001b[0m\n\u001b[0;31mIndentationError\u001b[0m\u001b[0;31m:\u001b[0m unexpected indent\n"
     ]
    }
   ],
   "source": [
    "def disc(fields, refs, dx, dz, dt):\n",
    "    \n",
    "    # Load reference values\n",
    "    rho_0, p_0 = refs\n",
    "    # Load current values (n)\n",
    "    x, z, rho, p, u, w = fields\n",
    "    \n",
    "    # Initialize new values (n+1 represented by _n)\n",
    "    rho_n = np.full(shape=(len(z), len(x)), fill_value=np.nan, dtype=float)\n",
    "    p_n = np.full(shape=(len(z), len(x)), fill_value=np.nan, dtype=float)\n",
    "    u_n = np.full(shape=(len(z), len(x)), fill_value=np.nan, dtype=float)\n",
    "    w_n = np.full(shape=(len(z), len(x)), fill_value=np.nan, dtype=float)\n",
    "    \n",
    "    for j in range(0, len(z)):\n",
    "        for i in range(0, len(x)):\n",
    "            \n",
    "            # p_0[j, i] = 0 # Try setting reference pressure p_0 to ground pressure\n",
    "            \n",
    "            # Create modulo-based indices for lateral doubly-periodic conditions\n",
    "            l, r = (i-1) % len(x), (i+1) % len(x) # left (l) and right (r)\n",
    "            \n",
    "            ''' Define derivatives. '''\n",
    "            # Handle horizontal differentiation\n",
    "            du_dx = (u[j, r] - u[j, l])/(2*dx)\n",
    "            dw_dx = (z[j, r] - z[j, l])/(2*dx)\n",
    "            drho_dx = (rho[j, r] - rho[j, l])/(2*dx)\n",
    "            dp_dx = (p[j, r] - p[j, l])/(2*dx)\n",
    "            dp_0_dx = (p_0[j, r] - p_0[j, l])/(2*dx)\n",
    "            \n",
    "            # Handle bottom boundary (2nd-order forward FD)\n",
    "            if j == 0:\n",
    "                du_dz = (-3*u[j, i] + 4*u[j+1, i] - u[j+2, i])/(2*dz)\n",
    "                dw_dz = (-3*z[j, i] + 4*z[j+1, i] - z[j+2, i])/(2*dz)\n",
    "                drho_dz = (-3*rho[j, i] + 4*rho[j+1, i] - rho[j+2, i])/(2*dz)\n",
    "                dp_dz = (-3*p[j, i] + 4*p[j+1, i] - p[j+2, i])/(2*dz)\n",
    "                dp_0_dz = (-3*p_0[j, i] + 4*p_0[j+1, i] - p_0[j+2, i])/(2*dz)\n",
    "            \n",
    "            # Handle top boundary (2nd-order backward FD)\n",
    "            elif j == (len(z) - 1):\n",
    "                du_dz = (3*u[j, i] - 4*u[j-1, i] + u[j-2, i])/(2*dz)\n",
    "                dw_dz = (3*z[j, i] - 4*z[j-1, i] + z[j-2, i])/(2*dz)\n",
    "                drho_dz = (3*rho[j, i] - 4*rho[j-1, i] + rho[j-2, i])/(2*dz)\n",
    "                dp_dz = (3*p[j, i] - 4*p[j-1, i] + p[j-2, i])/(2*dz)\n",
    "                dp_0_dz = (3*p_0[j, i] - 4*p_0[j-1, i] + p_0[j-2, i])/(2*dz)\n",
    "            \n",
    "            # Rest of grid\n",
    "            else:\n",
    "                du_dz = (u[j+1, i] - u[j-1, i])/(2*dz)\n",
    "                dw_dz = (z[j+1, i] - z[j-1, i])/(2*dz)\n",
    "                drho_dz = (rho[j+1, i] - rho[j-1, i])/(2*dz)\n",
    "                dp_dz = (p[j+1, i] - p[j-1, i])/(2*dz)\n",
    "                dp_0_dz = (p_0[j+1, i] - p_0[j-1, i])/(2*dz)\n",
    "            \n",
    "            ''' Governing equations. '''\n",
    "            # Buoyancy material evolution\n",
    "            rho_n[j, i] = rho[j, i] + dt*(-u[j, i]*drho_dz - w[j, i]*drho_dz)\n",
    "            # Pressure evolution\n",
    "            p_n[j, i] = -g*rho[j, i]*z[j, i]\n",
    "            # Horizontal velocity - suppressed until hydrostatic balance is resolved\n",
    "            u_n[j, i] = u[j, i] + dt*(-u[j, i]*du_dx - (1/rho_0)*dp_dx + (1/rho_0)*dp_0_dx)\n",
    "            u_n[j, i] = u[j, i]\n",
    "            # Vertical velocity\n",
    "            w_n[j, i] = w[j, i] + dt*(-u[j, i]*dw_dx - w[j, i]*dw_dz - (1/rho_0)*dp_dz + (1/rho_0)*dp_0_dz - g*(rho[j, i]-rho_0)/rho_0)\n",
    "            # Continuity - this is a 'diagnostic'\n",
    "            cont = du_dx + dw_dz\n",
    "            \n",
    "            ''' Print statements (once per row for brevity). '''\n",
    "            if i == 2:\n",
    "                print('({0}, {1})'.format(j, i))\n",
    "            \n",
    "                ### Vertical gradient of pressure\n",
    "                # if j == 0:\n",
    "                #     print('\\t dp/dz: {0:.2e}, self: {1:.2e}, z+1: {2:.2e}, z+2: {3:.2e}'.format(dp_dz, p[j, i], p[j+1, i], p[j+2, i], 2*dz))\n",
    "                # elif j == len(z)-1:\n",
    "                #     print('\\t dp/dz: {0:.2e}, self: {1:.2e}, z-1: {2:.2e}, z-2: {3:.2e}'.format(dp_dz, p[j, i], p[j-1, i], p[j-2, i], 2*dz))\n",
    "                # else:\n",
    "                    print('\\t dp/dz: {0:.2e}, z+1: {1:.2e}, z-1: {2:.2e}'.format(dp_dz, p[j+1, i], p[j-1, i], 2*dz))\n",
    "                ### Vertical velocity\n",
    "                # print('\\t w_n: {0:.2e}, w: {1:.2e}, u(dw/dx): {2:.2e}, w(dw/dz): {3:.2e}, rho^-1 dp/dz: {4:.2e}, rho^-1 dp0/dz: {5:.2e}, b: {6:.2e}'.format(w_n[j, i], w[j, i], -u[j, i]*dw_dx, -w[j, i]*dw_dz, -(1/rho_0)*dp_dz, (1/rho_0)*dp_0_dz, -g*(rho[j, i]-rho_0)/rho_0))\n",
    "                ### Pressure\n",
    "                # print('\\t p_n: {0:4.2f} | -g*rho*z: {1:4.2f} | p_0: {2:4.2f}'.format(p_n[j, i], -g*rho[j, i]*z[j, i], p_0[j, i]))\n",
    "                ### Continuity\n",
    "                # print('\\t Continuity at ({0}, {1}): {2:.3f}'.format(j, i, cont))\n",
    "                ## Check hydrostatic balance per Griffies (2022), Eqn. 25.25b\n",
    "                # print('\\t Hydrostatic balance: {0:.2e}'.format(-(1/rho_0)*dp_dz + (1/rho_0)*dp_0_dz - g*(rho[j, i]-rho_0)/rho_0))\n",
    "\n",
    "    return rho_n, p_n, u_n, w_n"
   ]
  },
  {
   "cell_type": "markdown",
   "id": "785a66c3-4049-47e1-9a7a-ffa1688ca289",
   "metadata": {
    "tags": []
   },
   "source": [
    "#### Initialize grids"
   ]
  },
  {
   "cell_type": "code",
   "execution_count": 1555,
   "id": "b5173418-8cc6-4412-9d4f-dfe0cbba78ce",
   "metadata": {
    "tags": []
   },
   "outputs": [
    {
     "name": "stdout",
     "output_type": "stream",
     "text": [
      "---------------------------\n",
      "Time: 0.125 s\n",
      "(0, 2)\n",
      "\t dp/dz: -1.00e+00, self: -0.00e+00, z+1: -2.50e-01, z+2: -5.00e-01\n",
      "\t w_n: 0.00e+00, w: 0.00e+00, u(dw/dx): -0.00e+00, w(dw/dz): -0.00e+00, rho^-1 dp/dz: 1.00e+00, rho^-1 dp0/dz: -1.00e+00, b: -0.00e+00\n",
      "\t p_n: -0.00 | -g*rho*z: -0.00 | p_0: -0.00\n",
      "\t Hydrostatic balance: 0.00e+00\n",
      "(1, 2)\n",
      "\t dp/dz: -1.00e+00, z+1: -5.00e-01, z-1: -0.00e+00\n",
      "\t w_n: 0.00e+00, w: 0.00e+00, u(dw/dx): -0.00e+00, w(dw/dz): -0.00e+00, rho^-1 dp/dz: 1.00e+00, rho^-1 dp0/dz: -1.00e+00, b: -0.00e+00\n",
      "\t p_n: -0.25 | -g*rho*z: -0.25 | p_0: -0.25\n",
      "\t Hydrostatic balance: 0.00e+00\n",
      "(2, 2)\n",
      "\t dp/dz: -1.00e+00, z+1: -7.50e-01, z-1: -2.50e-01\n",
      "\t w_n: 0.00e+00, w: 0.00e+00, u(dw/dx): -0.00e+00, w(dw/dz): -0.00e+00, rho^-1 dp/dz: 1.00e+00, rho^-1 dp0/dz: -1.00e+00, b: -0.00e+00\n",
      "\t p_n: -0.50 | -g*rho*z: -0.50 | p_0: -0.50\n",
      "\t Hydrostatic balance: 0.00e+00\n",
      "(3, 2)\n",
      "\t dp/dz: -1.00e+00, z+1: -1.00e+00, z-1: -5.00e-01\n",
      "\t w_n: 0.00e+00, w: 0.00e+00, u(dw/dx): -0.00e+00, w(dw/dz): -0.00e+00, rho^-1 dp/dz: 1.00e+00, rho^-1 dp0/dz: -1.00e+00, b: -0.00e+00\n",
      "\t p_n: -0.75 | -g*rho*z: -0.75 | p_0: -0.75\n",
      "\t Hydrostatic balance: 0.00e+00\n",
      "(4, 2)\n",
      "\t dp/dz: -1.00e+00, self: -1.00e+00, z-1: -7.50e-01, z-2: -5.00e-01\n",
      "\t w_n: 0.00e+00, w: 0.00e+00, u(dw/dx): -0.00e+00, w(dw/dz): -0.00e+00, rho^-1 dp/dz: 1.00e+00, rho^-1 dp0/dz: -1.00e+00, b: -0.00e+00\n",
      "\t p_n: -1.00 | -g*rho*z: -1.00 | p_0: -1.00\n",
      "\t Hydrostatic balance: 0.00e+00\n",
      "---------------------------\n",
      "Time: 0.250 s\n",
      "(0, 2)\n",
      "\t dp/dz: -1.00e+00, self: -0.00e+00, z+1: -2.50e-01, z+2: -5.00e-01\n",
      "\t w_n: 0.00e+00, w: 0.00e+00, u(dw/dx): -0.00e+00, w(dw/dz): -0.00e+00, rho^-1 dp/dz: 1.00e+00, rho^-1 dp0/dz: -1.00e+00, b: -0.00e+00\n",
      "\t p_n: -0.00 | -g*rho*z: -0.00 | p_0: -0.00\n",
      "\t Hydrostatic balance: 0.00e+00\n",
      "(1, 2)\n",
      "\t dp/dz: -1.00e+00, z+1: -5.00e-01, z-1: -0.00e+00\n",
      "\t w_n: 0.00e+00, w: 0.00e+00, u(dw/dx): -0.00e+00, w(dw/dz): -0.00e+00, rho^-1 dp/dz: 1.00e+00, rho^-1 dp0/dz: -1.00e+00, b: -0.00e+00\n",
      "\t p_n: -0.25 | -g*rho*z: -0.25 | p_0: -0.25\n",
      "\t Hydrostatic balance: 0.00e+00\n",
      "(2, 2)\n",
      "\t dp/dz: -1.00e+00, z+1: -7.50e-01, z-1: -2.50e-01\n",
      "\t w_n: 0.00e+00, w: 0.00e+00, u(dw/dx): -0.00e+00, w(dw/dz): -0.00e+00, rho^-1 dp/dz: 1.00e+00, rho^-1 dp0/dz: -1.00e+00, b: -0.00e+00\n",
      "\t p_n: -0.50 | -g*rho*z: -0.50 | p_0: -0.50\n",
      "\t Hydrostatic balance: 0.00e+00\n",
      "(3, 2)\n",
      "\t dp/dz: -1.00e+00, z+1: -1.00e+00, z-1: -5.00e-01\n",
      "\t w_n: 0.00e+00, w: 0.00e+00, u(dw/dx): -0.00e+00, w(dw/dz): -0.00e+00, rho^-1 dp/dz: 1.00e+00, rho^-1 dp0/dz: -1.00e+00, b: -0.00e+00\n",
      "\t p_n: -0.75 | -g*rho*z: -0.75 | p_0: -0.75\n",
      "\t Hydrostatic balance: 0.00e+00\n",
      "(4, 2)\n",
      "\t dp/dz: -1.00e+00, self: -1.00e+00, z-1: -7.50e-01, z-2: -5.00e-01\n",
      "\t w_n: 0.00e+00, w: 0.00e+00, u(dw/dx): -0.00e+00, w(dw/dz): -0.00e+00, rho^-1 dp/dz: 1.00e+00, rho^-1 dp0/dz: -1.00e+00, b: -0.00e+00\n",
      "\t p_n: -1.00 | -g*rho*z: -1.00 | p_0: -1.00\n",
      "\t Hydrostatic balance: 0.00e+00\n",
      "---------------------------\n",
      "Time: 0.375 s\n",
      "(0, 2)\n",
      "\t dp/dz: -1.00e+00, self: -0.00e+00, z+1: -2.50e-01, z+2: -5.00e-01\n",
      "\t w_n: 0.00e+00, w: 0.00e+00, u(dw/dx): -0.00e+00, w(dw/dz): -0.00e+00, rho^-1 dp/dz: 1.00e+00, rho^-1 dp0/dz: -1.00e+00, b: -0.00e+00\n",
      "\t p_n: -0.00 | -g*rho*z: -0.00 | p_0: -0.00\n",
      "\t Hydrostatic balance: 0.00e+00\n",
      "(1, 2)\n",
      "\t dp/dz: -1.00e+00, z+1: -5.00e-01, z-1: -0.00e+00\n",
      "\t w_n: 0.00e+00, w: 0.00e+00, u(dw/dx): -0.00e+00, w(dw/dz): -0.00e+00, rho^-1 dp/dz: 1.00e+00, rho^-1 dp0/dz: -1.00e+00, b: -0.00e+00\n",
      "\t p_n: -0.25 | -g*rho*z: -0.25 | p_0: -0.25\n",
      "\t Hydrostatic balance: 0.00e+00\n",
      "(2, 2)\n",
      "\t dp/dz: -1.00e+00, z+1: -7.50e-01, z-1: -2.50e-01\n",
      "\t w_n: 0.00e+00, w: 0.00e+00, u(dw/dx): -0.00e+00, w(dw/dz): -0.00e+00, rho^-1 dp/dz: 1.00e+00, rho^-1 dp0/dz: -1.00e+00, b: -0.00e+00\n",
      "\t p_n: -0.50 | -g*rho*z: -0.50 | p_0: -0.50\n",
      "\t Hydrostatic balance: 0.00e+00\n",
      "(3, 2)\n",
      "\t dp/dz: -1.00e+00, z+1: -1.00e+00, z-1: -5.00e-01\n",
      "\t w_n: 0.00e+00, w: 0.00e+00, u(dw/dx): -0.00e+00, w(dw/dz): -0.00e+00, rho^-1 dp/dz: 1.00e+00, rho^-1 dp0/dz: -1.00e+00, b: -0.00e+00\n",
      "\t p_n: -0.75 | -g*rho*z: -0.75 | p_0: -0.75\n",
      "\t Hydrostatic balance: 0.00e+00\n",
      "(4, 2)\n",
      "\t dp/dz: -1.00e+00, self: -1.00e+00, z-1: -7.50e-01, z-2: -5.00e-01\n",
      "\t w_n: 0.00e+00, w: 0.00e+00, u(dw/dx): -0.00e+00, w(dw/dz): -0.00e+00, rho^-1 dp/dz: 1.00e+00, rho^-1 dp0/dz: -1.00e+00, b: -0.00e+00\n",
      "\t p_n: -1.00 | -g*rho*z: -1.00 | p_0: -1.00\n",
      "\t Hydrostatic balance: 0.00e+00\n",
      "---------------------------\n",
      "Time: 0.500 s\n",
      "(0, 2)\n",
      "\t dp/dz: -1.00e+00, self: -0.00e+00, z+1: -2.50e-01, z+2: -5.00e-01\n",
      "\t w_n: 0.00e+00, w: 0.00e+00, u(dw/dx): -0.00e+00, w(dw/dz): -0.00e+00, rho^-1 dp/dz: 1.00e+00, rho^-1 dp0/dz: -1.00e+00, b: -0.00e+00\n",
      "\t p_n: -0.00 | -g*rho*z: -0.00 | p_0: -0.00\n",
      "\t Hydrostatic balance: 0.00e+00\n",
      "(1, 2)\n",
      "\t dp/dz: -1.00e+00, z+1: -5.00e-01, z-1: -0.00e+00\n",
      "\t w_n: 0.00e+00, w: 0.00e+00, u(dw/dx): -0.00e+00, w(dw/dz): -0.00e+00, rho^-1 dp/dz: 1.00e+00, rho^-1 dp0/dz: -1.00e+00, b: -0.00e+00\n",
      "\t p_n: -0.25 | -g*rho*z: -0.25 | p_0: -0.25\n",
      "\t Hydrostatic balance: 0.00e+00\n",
      "(2, 2)\n",
      "\t dp/dz: -1.00e+00, z+1: -7.50e-01, z-1: -2.50e-01\n",
      "\t w_n: 0.00e+00, w: 0.00e+00, u(dw/dx): -0.00e+00, w(dw/dz): -0.00e+00, rho^-1 dp/dz: 1.00e+00, rho^-1 dp0/dz: -1.00e+00, b: -0.00e+00\n",
      "\t p_n: -0.50 | -g*rho*z: -0.50 | p_0: -0.50\n",
      "\t Hydrostatic balance: 0.00e+00\n",
      "(3, 2)\n",
      "\t dp/dz: -1.00e+00, z+1: -1.00e+00, z-1: -5.00e-01\n",
      "\t w_n: 0.00e+00, w: 0.00e+00, u(dw/dx): -0.00e+00, w(dw/dz): -0.00e+00, rho^-1 dp/dz: 1.00e+00, rho^-1 dp0/dz: -1.00e+00, b: -0.00e+00\n",
      "\t p_n: -0.75 | -g*rho*z: -0.75 | p_0: -0.75\n",
      "\t Hydrostatic balance: 0.00e+00\n",
      "(4, 2)\n",
      "\t dp/dz: -1.00e+00, self: -1.00e+00, z-1: -7.50e-01, z-2: -5.00e-01\n",
      "\t w_n: 0.00e+00, w: 0.00e+00, u(dw/dx): -0.00e+00, w(dw/dz): -0.00e+00, rho^-1 dp/dz: 1.00e+00, rho^-1 dp0/dz: -1.00e+00, b: -0.00e+00\n",
      "\t p_n: -1.00 | -g*rho*z: -1.00 | p_0: -1.00\n",
      "\t Hydrostatic balance: 0.00e+00\n"
     ]
    }
   ],
   "source": [
    "# Number of timesteps\n",
    "n_steps = 5\n",
    "# Time domain\n",
    "times = np.arange(0, dt*n_steps, dt)\n",
    "\n",
    "g = 1\n",
    "p_0 = 0\n",
    "rho_0 = 1\n",
    "u_0, w_0 = 0, 0\n",
    "\n",
    "rho_init = np.full(shape=(len(base_z), len(base_x), len(times)), fill_value=rho_0, dtype=float)\n",
    "center_x = len(base_x) // 2\n",
    "rad = 1\n",
    "mag = 0\n",
    "rho_init[0, ((center_x-rad)+1):(center_x+rad)] = rho_0 + mag\n",
    "\n",
    "rho = {'name': '$\\\\rho$',\n",
    "       'long_name': 'Density',\n",
    "       'units': r'kg m$^{-3}$',\n",
    "       'values': np.full(shape=(len(base_z), len(base_x), len(times)), fill_value=rho_init, dtype=float)}\n",
    "\n",
    "u = {'name': '$u$',\n",
    "          'long_name': 'Velocity, horizontal',\n",
    "          'units': r'm s$^{-1}$',\n",
    "          'values': np.full(shape=(len(base_z), len(base_x), len(times)), fill_value=u_0, dtype=float)}\n",
    "\n",
    "w = {'name': '$w$',\n",
    "          'long_name': 'Velocity, vertical',\n",
    "          'units': r'm s$^{-1}$',\n",
    "          'values': np.full(shape=(len(base_z), len(base_x), len(times)), fill_value=w_0, dtype=float)}\n",
    "\n",
    "p = {'name': '$p$',\n",
    "       'long_name': 'Pressure',\n",
    "       'units': r'Pa',\n",
    "       'values': np.full(shape=(len(base_z), len(base_x), len(times)), fill_value=p_0, dtype=float)}\n",
    "\n",
    "# Initialize pressure field\n",
    "p_0 = -rho['values'][:, :, 0]*g*base_z\n",
    "p['values'][:, :, 0] = p_0\n",
    "\n",
    "refs = [rho_0, p_0]\n",
    "\n",
    "for step in range(1, len(times)):\n",
    "    print('---------------------------')\n",
    "    print('Time: {0:.3f} s'.format(times[step]))\n",
    "    fields = [base_x, base_z, rho['values'][:, :, step-1], p['values'][:, :, step-1], u['values'][:, :, step-1], w['values'][:, :, step-1]]\n",
    "    rho['values'][:, :, step], p['values'][:, :, step], u['values'][:, :, step], w['values'][:, :, step] = disc(fields, refs, dx, dz, dt)"
   ]
  },
  {
   "cell_type": "code",
   "execution_count": 1553,
   "id": "ed312a3d-f169-4590-af95-0097d10c3b34",
   "metadata": {},
   "outputs": [
    {
     "ename": "IndexError",
     "evalue": "index 5 is out of bounds for axis 2 with size 5",
     "output_type": "error",
     "traceback": [
      "\u001b[0;31m---------------------------------------------------------------------------\u001b[0m",
      "\u001b[0;31mIndexError\u001b[0m                                Traceback (most recent call last)",
      "\u001b[0;32m/var/folders/98/_d8bjg_j2p58806pn5mtq77r0000gn/T/ipykernel_91316/2248268864.py\u001b[0m in \u001b[0;36m<cell line: 1>\u001b[0;34m()\u001b[0m\n\u001b[0;32m----> 1\u001b[0;31m \u001b[0mfield_plot\u001b[0m\u001b[0;34m(\u001b[0m\u001b[0;34m[\u001b[0m\u001b[0mbase_x\u001b[0m\u001b[0;34m,\u001b[0m \u001b[0mbase_z\u001b[0m\u001b[0;34m]\u001b[0m\u001b[0;34m,\u001b[0m \u001b[0;34m[\u001b[0m\u001b[0mrho\u001b[0m\u001b[0;34m,\u001b[0m \u001b[0mp\u001b[0m\u001b[0;34m,\u001b[0m \u001b[0mu\u001b[0m\u001b[0;34m,\u001b[0m \u001b[0mw\u001b[0m\u001b[0;34m]\u001b[0m\u001b[0;34m,\u001b[0m \u001b[0;36m5\u001b[0m\u001b[0;34m)\u001b[0m\u001b[0;34m\u001b[0m\u001b[0;34m\u001b[0m\u001b[0m\n\u001b[0m",
      "\u001b[0;32m/var/folders/98/_d8bjg_j2p58806pn5mtq77r0000gn/T/ipykernel_91316/1801960173.py\u001b[0m in \u001b[0;36mfield_plot\u001b[0;34m(grids, datasets, timestep)\u001b[0m\n\u001b[1;32m     11\u001b[0m     \u001b[0;32mfor\u001b[0m \u001b[0mi\u001b[0m\u001b[0;34m,\u001b[0m \u001b[0mdata\u001b[0m \u001b[0;32min\u001b[0m \u001b[0menumerate\u001b[0m\u001b[0;34m(\u001b[0m\u001b[0mdatasets\u001b[0m\u001b[0;34m)\u001b[0m\u001b[0;34m:\u001b[0m\u001b[0;34m\u001b[0m\u001b[0;34m\u001b[0m\u001b[0m\n\u001b[1;32m     12\u001b[0m         \u001b[0max\u001b[0m \u001b[0;34m=\u001b[0m \u001b[0maxs\u001b[0m\u001b[0;34m[\u001b[0m\u001b[0mi\u001b[0m\u001b[0;34m]\u001b[0m\u001b[0;34m\u001b[0m\u001b[0;34m\u001b[0m\u001b[0m\n\u001b[0;32m---> 13\u001b[0;31m         \u001b[0mvalues\u001b[0m \u001b[0;34m=\u001b[0m \u001b[0mdata\u001b[0m\u001b[0;34m[\u001b[0m\u001b[0;34m'values'\u001b[0m\u001b[0;34m]\u001b[0m\u001b[0;34m[\u001b[0m\u001b[0;34m:\u001b[0m\u001b[0;34m,\u001b[0m \u001b[0;34m:\u001b[0m\u001b[0;34m,\u001b[0m \u001b[0mtimestep\u001b[0m\u001b[0;34m]\u001b[0m\u001b[0;34m\u001b[0m\u001b[0;34m\u001b[0m\u001b[0m\n\u001b[0m\u001b[1;32m     14\u001b[0m \u001b[0;34m\u001b[0m\u001b[0m\n\u001b[1;32m     15\u001b[0m         \u001b[0;32mif\u001b[0m \u001b[0mdata\u001b[0m\u001b[0;34m[\u001b[0m\u001b[0;34m'long_name'\u001b[0m\u001b[0;34m]\u001b[0m \u001b[0;34m==\u001b[0m \u001b[0;34m'Density'\u001b[0m\u001b[0;34m:\u001b[0m\u001b[0;34m\u001b[0m\u001b[0;34m\u001b[0m\u001b[0m\n",
      "\u001b[0;31mIndexError\u001b[0m: index 5 is out of bounds for axis 2 with size 5"
     ]
    },
    {
     "data": {
      "image/png": "[encoded data removed]",
      "text/plain": [
       "<Figure size 1200x300 with 4 Axes>"
      ]
     },
     "metadata": {},
     "output_type": "display_data"
    }
   ],
   "source": [
    "field_plot([base_x, base_z], [rho, p, u, w], 5)"
   ]
  },
  {
   "cell_type": "markdown",
   "id": "1835e84a-2907-48a8-82f7-bfde42525472",
   "metadata": {},
   "source": [
    "#### Field plots"
   ]
  },
  {
   "cell_type": "code",
   "execution_count": 1421,
   "id": "be68c6fa-c5f1-4299-8c84-5d89f3b615ad",
   "metadata": {},
   "outputs": [],
   "source": [
    "from mpl_toolkits.axes_grid1 import make_axes_locatable as ml\n",
    "from mpl_toolkits.axes_grid1.inset_locator import inset_axes\n",
    "\n",
    "def field_plot(grids, datasets, timestep=0):\n",
    "\n",
    "    x, z = grids\n",
    "    \n",
    "    nrows, ncols = 1, len(datasets)\n",
    "    fig, axs = plt.subplots(figsize=(3*ncols, 3*nrows), ncols=ncols, sharey=True)\n",
    "\n",
    "    for i, data in enumerate(datasets):\n",
    "        ax = axs[i]\n",
    "        values = data['values'][:, :, timestep]\n",
    "\n",
    "        if data['long_name'] == 'Density':\n",
    "            vmin, vmax = [0.8, 1.2]\n",
    "        else:\n",
    "            vmin, vmax = [None, None]\n",
    "            \n",
    "        im = ax.pcolormesh(x, z, values, vmin=vmin, vmax=vmax)\n",
    "        if data['long_name'] == 'Velocity, vertical':\n",
    "            iax = inset_axes(ax, height='100%', width='25%', bbox_to_anchor=(1, 0.04, 1, 1), bbox_transform=ax.transAxes)\n",
    "            center_i = len(x) // 2\n",
    "            center_profile = iax.plot(values[:, center_i], z[:, center_i], marker='o')\n",
    "            iax.set_ylim([0, 1])\n",
    "            iax.set_title('x = {0:.1f}'.format(x[0, center_i]))\n",
    "    \n",
    "        # Axis properties\n",
    "        ax.set_xlim([x.min(), x.max()])\n",
    "        ax.set_ylim([z.min(), z.max()])\n",
    "        # Axis title\n",
    "        ax.set_xlabel('x')\n",
    "        ax.set_ylabel('z') if i == 0 else None\n",
    "\n",
    "        # Colorbar\n",
    "        cax_width = 0.25*ax.get_position().width\n",
    "        divider = ml(ax)\n",
    "        cax = divider.append_axes('right', size=cax_width, pad=0.1)\n",
    "        cb = fig.colorbar(im, cax=cax)\n",
    "        \n",
    "\n",
    "        # Metadata\n",
    "        ax_title_str = r'{0} ({1}), {2}'.format(data['long_name'], data['name'], data['units'])\n",
    "        ax.set_title(label=ax_title_str)\n",
    "        \n",
    "    fig.tight_layout()"
   ]
  },
  {
   "cell_type": "code",
   "execution_count": null,
   "id": "91ebd8f8-d4af-4fb7-9d09-45810cdfa003",
   "metadata": {},
   "outputs": [],
   "source": []
  }
 ],
 "metadata": {
  "kernelspec": {
   "display_name": "Python 3 (ipykernel)",
   "language": "python",
   "name": "python3"
  },
  "language_info": {
   "codemirror_mode": {
    "name": "ipython",
    "version": 3
   },
   "file_extension": ".py",
   "mimetype": "text/x-python",
   "name": "python",
   "nbconvert_exporter": "python",
   "pygments_lexer": "ipython3",
   "version": "3.10.5"
  }
 },
 "nbformat": 4,
 "nbformat_minor": 5
}
