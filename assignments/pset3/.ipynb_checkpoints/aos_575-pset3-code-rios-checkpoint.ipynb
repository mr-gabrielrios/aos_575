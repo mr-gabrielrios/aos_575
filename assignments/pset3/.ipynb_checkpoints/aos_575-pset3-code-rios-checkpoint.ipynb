{
 "cells": [
  {
   "cell_type": "code",
   "execution_count": 948,
   "id": "a183502a-fae0-498b-8d4a-8b283281b6c1",
   "metadata": {},
   "outputs": [],
   "source": [
    "import numpy as np\n",
    "import matplotlib.pyplot as plt\n",
    "import cycler"
   ]
  },
  {
   "cell_type": "markdown",
   "id": "886b3963-3f8e-4c29-a9bf-6f9248efad23",
   "metadata": {
    "tags": []
   },
   "source": [
    "Define initial condition $\\psi(x, 0)$."
   ]
  },
  {
   "cell_type": "code",
   "execution_count": 949,
   "id": "d10c7d7b-cda4-4521-837b-6d83409556b8",
   "metadata": {},
   "outputs": [],
   "source": [
    "def f(x):\n",
    "    return np.sin(2*np.pi*x)**6"
   ]
  },
  {
   "cell_type": "markdown",
   "id": "8f038fee-9953-49d4-9d8d-ee27505ee4dd",
   "metadata": {},
   "source": [
    "Define $\\partial \\psi / \\partial x$."
   ]
  },
  {
   "cell_type": "code",
   "execution_count": 950,
   "id": "3338f603-dcfe-4ac2-88b2-2ff024fb9515",
   "metadata": {},
   "outputs": [],
   "source": [
    "def f_x(c, x):\n",
    "    return -12*c*np.pi*((np.sin(2*np.pi*x))**5)*np.cos(2*np.pi*x)"
   ]
  },
  {
   "cell_type": "markdown",
   "id": "6ecdc569-2e6a-4616-8830-1bdfa625e477",
   "metadata": {
    "tags": []
   },
   "source": [
    "### Problem 1\n",
    "Compute solutions to the wind speed advection equation using Adams-Bashforth (3rd-order) in time and 4th-order central differencing in space."
   ]
  },
  {
   "cell_type": "markdown",
   "id": "4fa43820-ce87-40c7-880b-af87ebff7a7d",
   "metadata": {},
   "source": [
    "Function $F$ for AB3."
   ]
  },
  {
   "cell_type": "code",
   "execution_count": 951,
   "id": "2a6bdba9-bcb3-4047-a4e9-f36c1d42b022",
   "metadata": {},
   "outputs": [],
   "source": [
    "def f_x_(c, dx, dt, f_):\n",
    "    return c*cdf(dt, dx, f_)"
   ]
  },
  {
   "cell_type": "markdown",
   "id": "b839febf-3a13-485b-a032-162fb102b9e4",
   "metadata": {},
   "source": [
    "Define discretization schemes:\n",
    "- Starter:  Runge-Kutta, 3rd order\n",
    "- Temporal: Adams-Bashforth, 3rd-order\n",
    "- Spatial:  4th-order compact difference"
   ]
  },
  {
   "cell_type": "markdown",
   "id": "97a25064-ced0-4805-8c5f-ce087edd055d",
   "metadata": {},
   "source": [
    "Runge-Kutta, 3rd order"
   ]
  },
  {
   "cell_type": "code",
   "execution_count": 952,
   "id": "76064262-31b6-42bc-b10a-13f5e551ec39",
   "metadata": {},
   "outputs": [],
   "source": [
    "def rk3(h, c, dt, dx, x, psi):\n",
    "    # q_1 = h*f_x(c, x)\n",
    "    q_1 = h*f_x_(c, dx, dt, psi)\n",
    "    psi_1 = psi + (1/3)*q_1\n",
    "    # q_2 = h*f_x(c, psi_1) - (5/9)*q_1\n",
    "    q_2 = h*f_x_(c, dx, dt, psi) - (5/9)*q_1\n",
    "    psi_2 = psi_1 + (15/16)*q_2\n",
    "    # q_3 = h*f_x(c, psi_2) - (153/128)*q_2\n",
    "    q_3 = h*f_x_(c, dx, dt, psi) - (153/128)*q_2\n",
    "    psi_n_1 = psi_2 + (8/15)*q_3\n",
    "    return psi_n_1"
   ]
  },
  {
   "cell_type": "markdown",
   "id": "641946be-a866-4ce6-a691-878b985b2bd6",
   "metadata": {},
   "source": [
    "4th-order centered difference"
   ]
  },
  {
   "cell_type": "code",
   "execution_count": 953,
   "id": "3aa94496-8466-473d-aca0-cd9ccacd7c69",
   "metadata": {},
   "outputs": [],
   "source": [
    "def cdf(dt, dx, f_):\n",
    "    f_prime = np.zeros((len(f_),))\n",
    "    for i in range(0, len(f_)):\n",
    "        # Using modulo for indices to handle boundary conditions, since BCs are periodic\n",
    "        # f_prime[i] = (f_[(i-2) % len(f_)] - 8*f_[(i-1) % len(f_)] + 8*f_[(i+1) % len(f_)] - f_[(i+2) % len(f_)])/(12*dx)\n",
    "        f_prime[i] = (4/(6*dx))*(f_[(i+1) % len(f_)] - f_[(i-1) % len(f_)]) - (1/(12*dx))*(f_[(i+2) % len(f_)] - f_[(i-2) % len(f_)])\n",
    "    return f_prime"
   ]
  },
  {
   "cell_type": "markdown",
   "id": "83b65e40-53a5-4570-9692-6a2c7ad54c34",
   "metadata": {},
   "source": [
    "Adams-Bashforth, 3rd order"
   ]
  },
  {
   "cell_type": "code",
   "execution_count": 954,
   "id": "13eb1117-9deb-448d-b46a-25f9c399eecc",
   "metadata": {},
   "outputs": [],
   "source": [
    "def ab3(dx, dt, c, x, psis):\n",
    "    # Get previous psi values [psi(n), psi(n-1), psi(n-2)]\n",
    "    psi_n, psi_n_1, psi_n_2 = psis[0], psis[1], psis[2]\n",
    "    # Generate new psi value psi(n+1)\n",
    "    psi_np1 = psi_n + (dt/12)*(23*f_x_(c, dx, dt, psi_n) - 16*f_x_(c, dx, dt, psi_n_1) + 5*f_x_(c, dx, dt, psi_n_2))\n",
    "    \n",
    "    return psi_np1"
   ]
  },
  {
   "cell_type": "markdown",
   "id": "9051a33d-8268-4905-af5c-aae5e8b6b207",
   "metadata": {},
   "source": [
    "Define function to carry out the discretization and step through time."
   ]
  },
  {
   "cell_type": "code",
   "execution_count": 955,
   "id": "4b1bf636-263a-4cf4-b604-869c3fbe2b67",
   "metadata": {},
   "outputs": [],
   "source": [
    "def advection_p1(dx, c, cfl, t_max, plot=False, plot_step=40, printout=False):\n",
    "    # Compute timestep to meet Courant number\n",
    "    dt = dx*cfl/c\n",
    "    # Spatial domain\n",
    "    x = np.arange(0, 1, dx)\n",
    "    # Temporal domain\n",
    "    t = np.arange(0, t_max, dt)\n",
    "    \n",
    "    # Initialize array for values and apply initial condition\n",
    "    y = np.full((len(t)+1, len(x)), np.nan)\n",
    "    y[0, :] = f(x)\n",
    "    \n",
    "    # Get exact solution\n",
    "    exact = np.sin(2*np.pi*(x-c*t_max))**6\n",
    "    \n",
    "    # Iterate through timesteps\n",
    "    for i, t_ in enumerate(t):\n",
    "        if printout and i % 10 == 0:\n",
    "            print('Step: {0} | Timestep: {1:.2f}'.format(i, t_))\n",
    "            \n",
    "        # Starter function\n",
    "        if i < 2:\n",
    "            print('Using starter scheme...') if printout else None\n",
    "            y[i+1, :] = rk3(dt, c, dt, dx, x, y[i, :])\n",
    "        else:\n",
    "            print('Using full scheme...') if printout else None\n",
    "            # Get function values from previous timesteps\n",
    "            psis = [y[i, :], y[i-1, :], y[i-2, :]]\n",
    "            y[i+1, :] = ab3(dx, dt, c, x, psis)\n",
    "    \n",
    "    ''' Plotting. '''\n",
    "    if plot:\n",
    "        plt.rcParams[\"axes.prop_cycle\"] = plt.cycler('color', plt.cm.viridis(np.linspace(0, 1, len(plot_step))))\n",
    "        fig, ax = plt.subplots(figsize=(4, 3))\n",
    "        for step in plot_step:\n",
    "            im = ax.plot(x, y[step], marker='o', markersize=4, label='Step {0}'.format(step))\n",
    "\n",
    "        ax.set_title('Time = {0:.2f} | dx = {1:.2f} | dt = {2:.2f}'.format(t[step], dx, dt), fontsize=10)\n",
    "        ax.set_xlim([min(x), max(x)])\n",
    "        ax.set_ylim([0, 1])\n",
    "        fig.tight_layout()\n",
    "        fig.legend(loc='upper right', bbox_to_anchor=(1.25, 0.925), frameon=False, fontsize=8)\n",
    "    \n",
    "    # Return the values at the maximum time\n",
    "    return x, y[-1, :], exact"
   ]
  },
  {
   "cell_type": "markdown",
   "id": "80a7af56-3e80-4006-b9b6-cef48234c9db",
   "metadata": {},
   "source": [
    "Execute and plot the results"
   ]
  },
  {
   "cell_type": "code",
   "execution_count": null,
   "id": "14dde3a7-5626-4c76-a343-7d21261d446a",
   "metadata": {
    "tags": []
   },
   "outputs": [],
   "source": [
    "# Wave speed (c)\n",
    "c = 0.1\n",
    "# Spatial increments\n",
    "dxs = [1/20, 1/40, 1/80, 1/160]\n",
    "# Strings to represent spatial increments (for plotting purposes only)\n",
    "dxs_str = ['1/20', '1/40', '1/80', '1/160']\n",
    "# Courant number and Courant number list\n",
    "cfls = [0.1, 0.2, 0.4, 0.8]\n",
    "# Maximum time\n",
    "t_max = 50\n",
    "# Boolean to control prints to console\n",
    "printout = False\n",
    "# Computation mode: variable dx or CFL values\n",
    "dx_calc = True\n",
    "\n",
    "# Initialize array to hold each run's output array\n",
    "values = {}\n",
    "\n",
    "# Iterate over dx values\n",
    "if dx_calc:\n",
    "    cfl = 0.1\n",
    "    for i, dx in enumerate(dxs):\n",
    "        # End step\n",
    "        end_step = int(t_max/(cfl*dx/c))\n",
    "        # Perform calculation, plot individual results\n",
    "        arr = advection_p1(dx, c, cfl, t_max, plot=False, plot_step=[end_step], printout=printout)\n",
    "        # Store array\n",
    "        values['dx = {0}'.format(dxs_str[i])] = {'x': arr[0], 'y': arr[1], 'exact': arr[2]}\n",
    "\n",
    "# Iterate over Courant number values\n",
    "else:\n",
    "    dx_index = 2\n",
    "    dx = dxs[dx_index]\n",
    "    for i, cfl in enumerate(cfls):\n",
    "        # End step\n",
    "        end_step = int(t_max/(cfl*dx/c))\n",
    "        # Perform calculation, plot individual results\n",
    "        arr = advection_p1(dx, c, cfl, t_max, plot=False, plot_step=[0, end_step // 16, end_step // 2, 3*end_step // 4], printout=printout)\n",
    "        # Store array\n",
    "        values['CFL = {0}'.format(cfl)] = {'x': arr[0], 'y': arr[1], 'exact': arr[2]}\n",
    "    \n",
    "''' Plotting.'''\n",
    "# Initialize figure\n",
    "fig, ax = plt.subplots(figsize=(4, 3))\n",
    "# Define formatting index, color list, marker list\n",
    "f_index, markers = 0, ['o', '^', '+', '2']\n",
    "# Set color cycling\n",
    "plt.rcParams[\"axes.prop_cycle\"] = plt.cycler('color', plt.cm.Blues(np.linspace(0.375, 1, len(dxs))))\n",
    "# Plot the actual values\n",
    "for key, value in values.items():\n",
    "    im = ax.plot(value['x'], value['y'], marker=markers[f_index], markersize=5, ls='--', label=key)\n",
    "    if key == 'dx = 1/160' or key == 'CFL = 0.1':\n",
    "        ax.plot(value['x'], value['exact'], c='r', label='exact', zorder=0)\n",
    "    f_index += 1\n",
    "# Metadata\n",
    "if dx_calc:\n",
    "    ax.set_title('Courant number: {0:.1f}'.format(cfl), fontsize=10) \n",
    "else: \n",
    "    ax.set_title('dx = {0}'.format(dxs_str[dx_index]), fontsize=10)\n",
    "ax.set_xlim([min(value['x']), max(value['x'])])\n",
    "ax.set_ylim([0, 1])\n",
    "fig.tight_layout()\n",
    "fig.legend(loc='upper right', bbox_to_anchor=(1.25, 0.925), frameon=False, fontsize=8)\n",
    "# plt.savefig('figs/p1c1.png', dpi=300, bbox_inches='tight')\n",
    "\n",
    "# Initialize figure\n",
    "fig, ax = plt.subplots(figsize=(4, 3))\n",
    "# Collect RMS values\n",
    "rmse = [rms(value['y'], value['exact']) for _, value in values.items()]\n",
    "print(rmse)\n",
    "# Plot the actual values\n",
    "im = ax.loglog(dxs, rmse, marker='o', color='k')\n",
    "ax.set_xticks([0.005, 0.01, 0.05])\n",
    "ax.set_ylim([1e-3, 1e0])\n",
    "# Metadata\n",
    "ax.set_ylabel('RMSE')\n",
    "ax.set_xlabel('dx') if dx_calc else ax.set_xlabel('CFL')\n",
    "ax.set_title('Root mean squared error', fontsize=10)\n",
    "plt.gca().invert_xaxis()\n",
    "fig.tight_layout()\n",
    "# plt.savefig('figs/p1c2.png', dpi=300, bbox_inches='tight')"
   ]
  },
  {
   "cell_type": "markdown",
   "id": "40875045-4aad-44ce-a5bd-7c7c9f86530b",
   "metadata": {},
   "source": [
    "### Problem 2\n",
    "Compute solutions to the wind speed advection equation using leapfrog with an Asselin filter in time and Lele's 4th-order compact differencing in space."
   ]
  },
  {
   "cell_type": "markdown",
   "id": "d9658673-c705-400a-bbd7-3dd839a3d342",
   "metadata": {},
   "source": [
    "Runge-Kutta, 3rd order"
   ]
  },
  {
   "cell_type": "code",
   "execution_count": 956,
   "id": "7f8434a9-7ed6-4cc4-9d92-bb88968760f6",
   "metadata": {},
   "outputs": [],
   "source": [
    "def rk3_2(h, c, dt, dx, x, psi):\n",
    "    # q_1 = h*f_x(c, x)\n",
    "    q_1 = h*f_x_2(c, dx, dt, psi)\n",
    "    psi_1 = psi + (1/3)*q_1\n",
    "    # q_2 = h*f_x(c, psi_1) - (5/9)*q_1\n",
    "    q_2 = h*f_x_2(c, dx, dt, psi) - (5/9)*q_1\n",
    "    psi_2 = psi_1 + (15/16)*q_2\n",
    "    # q_3 = h*f_x(c, psi_2) - (153/128)*q_2\n",
    "    q_3 = h*f_x_2(c, dx, dt, psi) - (153/128)*q_2\n",
    "    psi_n_1 = psi_2 + (8/15)*q_3\n",
    "    return psi_n_1"
   ]
  },
  {
   "cell_type": "markdown",
   "id": "80dc8893-f2dc-433d-8247-03f6cf0e45cb",
   "metadata": {},
   "source": [
    "4th-order Lele compact difference"
   ]
  },
  {
   "cell_type": "code",
   "execution_count": 957,
   "id": "904fb222-0dae-4427-a473-3a6f2e09f04e",
   "metadata": {},
   "outputs": [],
   "source": [
    "def cdf_compact(dt, dx, f_):\n",
    "    # f_ is an array of function values at a given time\n",
    "    # dt is the timestep\n",
    "    \n",
    "    # Create upper, central, and bottom diagonals\n",
    "    a = np.full(len(f_), 5/24)\n",
    "    b = np.full(len(f_), 14/24)\n",
    "    c = np.full(len(f_), 5/24)\n",
    "    \n",
    "    # Create RHS\n",
    "    rhs = np.zeros((len(f_), ))\n",
    "    for i in range(0, len(f_)):\n",
    "        # Using modulo for indices to handle boundary conditions, since BCs are periodic\n",
    "        rhs[i] = (11*(f_[(i+1) % len(f_)] - f_[(i-1) % len(f_)])/2 + (f_[(i+2) % len(f_)] - f_[(i-2) % len(f_)])/4)/(12*dx)\n",
    "            \n",
    "    f_prime = cyc_tridiag(len(f_), a, b, c, rhs)\n",
    "    \n",
    "    return f_prime"
   ]
  },
  {
   "cell_type": "markdown",
   "id": "f60882f8-ccdc-44df-b3bc-35c57e1bf46c",
   "metadata": {},
   "source": [
    "Leapfrog with Asselin filter"
   ]
  },
  {
   "cell_type": "code",
   "execution_count": 958,
   "id": "754e90c3-3cdf-404c-b122-c566c6e260a2",
   "metadata": {},
   "outputs": [],
   "source": [
    "def leapfrog(dx, dt, c, x, gamma, psis):\n",
    "    # Get previous psi values [psi(n), psi(n-1)]\n",
    "    psi_n, psi_n_1, psi_n_2 = psis\n",
    "    # Asselin filter - previous step\n",
    "    psi_n_1_ass = psi_n_1 + gamma*(psi_n - 2*psi_n_1 + psi_n_2)\n",
    "    # Compute values at next time step\n",
    "    psi_np1 = psi_n_1_ass + 2*dt*f_x_2(c, dx, dt, psi_n)\n",
    "    # Compute filtered values at current time step\n",
    "    psi_n_ass = psi_n + gamma*(psi_n_1_ass - 2*psi_n + psi_np1)\n",
    "    \n",
    "    return psi_n_ass, psi_np1"
   ]
  },
  {
   "cell_type": "markdown",
   "id": "89b0cb9b-b07f-4f0f-92cf-182f76f62923",
   "metadata": {},
   "source": [
    "Define $\\partial \\psi / \\partial x$."
   ]
  },
  {
   "cell_type": "code",
   "execution_count": 959,
   "id": "dd757480-cbd6-494e-bd01-514ccdca5a80",
   "metadata": {},
   "outputs": [],
   "source": [
    "def f_x_2(c, dx, dt, f_):\n",
    "    return c*cdf_compact(dt, dx, f_)"
   ]
  },
  {
   "cell_type": "markdown",
   "id": "23643822-4e28-4579-a615-94c8f5aba522",
   "metadata": {},
   "source": [
    "Define function to carry out the discretization and step through time"
   ]
  },
  {
   "cell_type": "code",
   "execution_count": 960,
   "id": "5b4b8e1f-11f5-4d83-854e-22eca8de9abe",
   "metadata": {},
   "outputs": [],
   "source": [
    "def advection_p2(dx, c, cfl, t_max, plot=False, plot_step=40, printout=False):\n",
    "    # Compute timestep to meet Courant number\n",
    "    dt = dx*cfl/c\n",
    "    # Spatial domain\n",
    "    x = np.arange(0, 1, dx)\n",
    "    # Temporal domain\n",
    "    t = np.arange(0, t_max, dt)\n",
    "    # Asselin filter value\n",
    "    gamma = 0.1\n",
    "    \n",
    "    # Initialize array for values and apply initial condition\n",
    "    y = np.full((len(t)+1, len(x)), np.nan)\n",
    "    y[0, :] = f(x)\n",
    "    \n",
    "    # Get exact solution\n",
    "    exact = np.sin(2*np.pi*(x-c*t_max))**6\n",
    "    \n",
    "    # Iterate through timesteps\n",
    "    for i, t_ in enumerate(t):\n",
    "        if printout and i % 10 == 0:\n",
    "            print('Step: {0} | Timestep: {1:.2f}'.format(i, t_))\n",
    "            \n",
    "        # Starter function\n",
    "        if i < 3:\n",
    "            print('Using starter scheme...') if printout else None\n",
    "            y[i+1, :] = rk3_2(dt, c, dt, dx, x, y[i, :])\n",
    "        else:\n",
    "            print('Using full scheme...') if printout else None\n",
    "            # Get function values from previous timesteps\n",
    "            psis = [y[i, :], y[i-1, :], y[i-2, :]]\n",
    "            y[i, :], y[i+1, :] = leapfrog(dx, dt, c, x, gamma, psis)\n",
    "    \n",
    "    ''' Plotting. '''\n",
    "    if plot:\n",
    "        plt.rcParams[\"axes.prop_cycle\"] = plt.cycler('color', plt.cm.viridis(np.linspace(0, 1, len(plot_step))))\n",
    "        fig, ax = plt.subplots(figsize=(4, 3))\n",
    "        for step in plot_step:\n",
    "            im = ax.plot(x, y[step], marker='o', markersize=4, label='Step {0}'.format(step))\n",
    "\n",
    "        ax.set_title('Time = {0:.2f} | dx = {1:.2f} | dt = {2:.2f}'.format(t[step], dx, dt), fontsize=10)\n",
    "        ax.set_xlim([min(x), max(x)])\n",
    "        ax.set_ylim([0, 1])\n",
    "        fig.tight_layout()\n",
    "        fig.legend(loc='upper right', bbox_to_anchor=(1.25, 0.925), frameon=False, fontsize=8)\n",
    "        plt.show()\n",
    "    \n",
    "    # Return the values at the maximum time\n",
    "    return x, y[-1, :], exact"
   ]
  },
  {
   "cell_type": "markdown",
   "id": "99c90059-4640-4743-a3f8-ddab0c06a103",
   "metadata": {},
   "source": [
    "Execute and plot the runs"
   ]
  },
  {
   "cell_type": "code",
   "execution_count": null,
   "id": "54c553eb-b2a0-4dc6-94b4-6226f6ba423a",
   "metadata": {},
   "outputs": [],
   "source": [
    "# Wave speed (c)\n",
    "c = 0.1\n",
    "# Spatial increments\n",
    "dxs = [1/20, 1/40, 1/80, 1/160]\n",
    "# Strings to represent spatial increments (for plotting purposes only)\n",
    "dxs_str = ['1/20', '1/40', '1/80', '1/160']\n",
    "# Courant number and Courant number list\n",
    "cfls = [0.1, 0.2, 0.4, 0.8]\n",
    "# Maximum time\n",
    "t_max = 50\n",
    "# Boolean to control prints to console\n",
    "printout = False\n",
    "# Computation mode: variable dx or CFL values\n",
    "dx_calc = False\n",
    "\n",
    "# Initialize array to hold each run's output array\n",
    "values = {}\n",
    "\n",
    "# Iterate over dx values\n",
    "if dx_calc:\n",
    "    cfl = 0.1\n",
    "    for i, dx in enumerate(dxs):\n",
    "        # End step\n",
    "        end_step = int(t_max/(cfl*dx/c))\n",
    "        # Perform calculation, plot individual results\n",
    "        arr = advection_p2(dx, c, cfl, t_max, plot=False, plot_step=[0], printout=printout)\n",
    "        # Store array\n",
    "        values['dx = {0}'.format(dxs_str[i])] = {'x': arr[0], 'y': arr[1], 'exact': arr[2]}\n",
    "\n",
    "# Iterate over Courant number values\n",
    "else:\n",
    "    dx_index = 2\n",
    "    dx = dxs[dx_index]\n",
    "    for i, cfl in enumerate(cfls):\n",
    "        # End step\n",
    "        end_step = int(t_max/(cfl*dx/c))\n",
    "        # Perform calculation, plot individual results\n",
    "        arr = advection_p2(dx, c, cfl, t_max, plot=False, plot_step=[end_step], printout=printout)\n",
    "        # Store array\n",
    "        values['CFL = {0}'.format(cfl)] = {'x': arr[0], 'y': arr[1], 'exact': arr[2]}\n",
    "    \n",
    "''' Plotting. '''\n",
    "# Initialize figure\n",
    "fig, ax = plt.subplots(figsize=(4, 3))\n",
    "# Define formatting index, color list, marker list\n",
    "f_index, markers = 0, ['o', '^', '+', '2']\n",
    "# Set color cycling\n",
    "plt.rcParams[\"axes.prop_cycle\"] = plt.cycler('color', plt.cm.Blues(np.linspace(0.375, 1, len(dxs))))\n",
    "# Plot the actual values\n",
    "for key, value in values.items():\n",
    "    im = ax.plot(value['x'], value['y'], marker=markers[f_index], markersize=5, ls='--', label=key)\n",
    "    if key == 'dx = 1/160' or key == 'CFL = 0.1':\n",
    "        ax.plot(value['x'], value['exact'], c='r', label='exact', zorder=0)\n",
    "    f_index += 1\n",
    "# Metadata\n",
    "if dx_calc:\n",
    "    ax.set_title('Courant number: {0:.1f}'.format(cfl), fontsize=10) \n",
    "else: \n",
    "    ax.set_title('dx = {0}'.format(dxs_str[dx_index]), fontsize=10)\n",
    "ax.set_xlim([min(value['x']), max(value['x'])])\n",
    "ax.set_ylim([0, 1])\n",
    "fig.tight_layout()\n",
    "fig.legend(loc='upper right', bbox_to_anchor=(1.25, 0.925), frameon=False, fontsize=8)\n",
    "# plt.savefig('figs/p2c1.png', dpi=300, bbox_inches='tight')\n",
    "\n",
    "# Initialize figure\n",
    "fig, ax = plt.subplots(figsize=(4, 3))\n",
    "# Collect RMS values\n",
    "rmse = [rms(value['y'], value['exact']) for _, value in values.items()]\n",
    "print(rmse)\n",
    "# Plot the actual values\n",
    "im = ax.loglog(dxs, rmse, marker='o', color='k')\n",
    "ax.set_xticks([0.005, 0.01, 0.05])\n",
    "ax.set_ylim([1e-3, 1e0])\n",
    "# Metadata\n",
    "ax.set_ylabel('RMSE')\n",
    "ax.set_xlabel('dx') if dx_calc else ax.set_xlabel('CFL')\n",
    "ax.set_title('Root mean squared error', fontsize=10)\n",
    "plt.gca().invert_xaxis()\n",
    "fig.tight_layout()\n",
    "# plt.savefig('figs/p2c2.png', dpi=300, bbox_inches='tight')\\"
   ]
  },
  {
   "cell_type": "markdown",
   "id": "3ff51eba-3d52-42e9-8c00-af1f3590153f",
   "metadata": {},
   "source": [
    "### Problem 3"
   ]
  },
  {
   "cell_type": "markdown",
   "id": "8b125a33-2852-439a-9060-53aa76393205",
   "metadata": {},
   "source": [
    "(a) Derive coefficient values that give a 3rd-order accurate scheme in space and time."
   ]
  },
  {
   "cell_type": "markdown",
   "id": "cdbcb253-32a9-4dcd-93eb-66f893b2ebd2",
   "metadata": {},
   "source": [
    "(a) (i). Derive a 3rd-order accurate scheme for space."
   ]
  },
  {
   "cell_type": "code",
   "execution_count": null,
   "id": "4453b022-c3dc-4d20-b400-e76b32ebe98e",
   "metadata": {},
   "outputs": [],
   "source": [
    "from sympy import *\n",
    "\n",
    "# Initialize symbolic variable\n",
    "h = Symbol('h')\n",
    "# Define the matrix system\n",
    "A = Matrix([[1, 1, 1, 1],\n",
    "           [-2*h, -h, 0, h],\n",
    "           [2*(h**2), (1/2)*(h**2), 0, (1/2)*(h**2)],\n",
    "           [(-4/3)*(h**3), (-1/6)*(h**3), 0, (1/6)*(h**3)]])\n",
    "B = Matrix([0, -1, 0, 0])\n",
    "\n",
    "# Solve the linear system\n",
    "system = A, B\n",
    "linsolve(system)"
   ]
  },
  {
   "cell_type": "markdown",
   "id": "94494359-9bcf-4f83-8d00-2e69eac9e024",
   "metadata": {},
   "source": [
    "Test the coefficients to ensure 3rd-order accuracy."
   ]
  },
  {
   "cell_type": "code",
   "execution_count": 806,
   "id": "ff8753de-f458-4421-b427-85f29c941bc4",
   "metadata": {},
   "outputs": [
    {
     "name": "stdout",
     "output_type": "stream",
     "text": [
      "0th-order: 0.000\n",
      "1st-order: 0.000\n",
      "2nd-order: 0.000\n",
      "3rd-order: 0.000\n",
      "4th-order: -0.083\n"
     ]
    }
   ],
   "source": [
    "a, b, c, d, e = -1/6, 1, -1/2, -1/3, 1\n",
    "\n",
    "#\n",
    "print('0th-order: {0:.3f}'.format(a + b + c + d + 0*e))\n",
    "# '\n",
    "print('1st-order: {0:.3f}'.format(-2*a - b + 0*c + d + e))\n",
    "# ''\n",
    "print('2nd-order: {0:.3f}'.format(2*a + (1/2)*b + 0*c + (1/2)*d + 0*e))\n",
    "# '''\n",
    "print('3rd-order: {0:.3f}'.format((-4/3)*a - (1/6)*b + 0*c + (1/6)*d + 0*e))\n",
    "# '''\n",
    "print('4th-order: {0:.3f}'.format((16/24)*a + (1/24)*b + 0*c + (1/24)*d + 0*e))"
   ]
  },
  {
   "cell_type": "markdown",
   "id": "8e00fff4-2999-42d7-bba8-2b13afc65eb7",
   "metadata": {},
   "source": [
    "(a) (ii) Do this for the spatial representation of time of the $\\partial^2 \\psi / \\partial x^2$ term.\n",
    "- Trial 1: do regular Taylor table\n",
    "- Trial 2: shift by a derivative up (instead of starting at $\\psi$, start at $\\partial \\psi$)."
   ]
  },
  {
   "cell_type": "code",
   "execution_count": 967,
   "id": "760a5d2f-26ef-4e39-8265-69401fc1d5b1",
   "metadata": {},
   "outputs": [
    {
     "data": {
      "text/latex": [
       "$\\displaystyle \\left\\{\\left( \\frac{2.22044604925031 \\cdot 10^{-16}}{h^{2}}, \\  - \\frac{1.0}{h^{2}}, \\  \\frac{2.0}{h^{2}}, \\  - \\frac{1.0}{h^{2}}\\right)\\right\\}$"
      ],
      "text/plain": [
       "{(2.22044604925031e-16/h**2, -1.0/h**2, 2.0/h**2, -1.0/h**2)}"
      ]
     },
     "execution_count": 967,
     "metadata": {},
     "output_type": "execute_result"
    }
   ],
   "source": [
    "from sympy import *\n",
    "\n",
    "# Initialize symbolic variable\n",
    "h = Symbol('h')\n",
    "# Define the matrix system\n",
    "\n",
    "''' Trial 1. '''\n",
    "A_1 = Matrix([[1, 1, 1, 1], \n",
    "              [-2*h, -h, 0, h],\n",
    "              [2*(h**2), (1/2)*(h**2), 0, (1/2)*(h**2)],\n",
    "              [(-4/3)*(h**3), (-1/6)*(h**3), 0, (1/6)*(h**3)]])\n",
    "B_1 = Matrix([0, 0, -1, 0])\n",
    "\n",
    "''' Trial 2. '''\n",
    "# A_1 = Matrix([[-2*h, -h, h],\n",
    "#               [2*(h**2), (1/2)*(h**2), (1/2)*(h**2)],\n",
    "#               [(-4/3)*(h**3), (-1/6)*(h**3), (1/6)*(h**3)],\n",
    "#               [(2/3)*(h**4), (1/24)*(h**4), (1/24)*(h**4)]])\n",
    "# B_1 = Matrix([0, -1, 0])\n",
    "\n",
    "# Solve the linear system\n",
    "system_1 = A_1, B_1\n",
    "linsolve(system_1)"
   ]
  },
  {
   "cell_type": "markdown",
   "id": "b0d139cb-da44-4c97-8f48-718402f3da4f",
   "metadata": {},
   "source": [
    "Test the coefficients to make sure they're 3rd-order accurate"
   ]
  },
  {
   "cell_type": "code",
   "execution_count": 865,
   "id": "75b8e738-0585-4bce-9820-a80d89098ff7",
   "metadata": {},
   "outputs": [
    {
     "name": "stdout",
     "output_type": "stream",
     "text": [
      "0th-order: 0.000\n",
      "1st-order: 0.000\n",
      "2nd-order: 0.000\n",
      "3rd-order: 0.000\n",
      "4th-order: -0.083\n"
     ]
    }
   ],
   "source": [
    "a, b, c, d, e = 0, -1, 2, -1, 1\n",
    "\n",
    "#\n",
    "print('0th-order: {0:.3f}'.format(a + b + c + d + 0*e))\n",
    "# '\n",
    "print('1st-order: {0:.3f}'.format(-2*a - b + 0*c + d + 0*e))\n",
    "# ''\n",
    "print('2nd-order: {0:.3f}'.format(2*a + (1/2)*b + 0*c + (1/2)*d + e))\n",
    "# '''\n",
    "print('3rd-order: {0:.3f}'.format((-4/3)*a - (1/6)*b + 0*c + (1/6)*d + 0*e))\n",
    "# '''\n",
    "print('4th-order: {0:.3f}'.format((16/24)*a + (1/24)*b + 0*c + (1/24)*d + 0*e))"
   ]
  },
  {
   "cell_type": "markdown",
   "id": "75ff0861-a7f1-4312-af8e-86c335f8cac3",
   "metadata": {},
   "source": [
    "(b) (iii) Do this for the spatial representation of time of the $\\partial^3 \\psi / \\partial x^3$ term."
   ]
  },
  {
   "cell_type": "code",
   "execution_count": 884,
   "id": "699497fa-5afa-4890-b931-79d752cc8ecd",
   "metadata": {},
   "outputs": [
    {
     "data": {
      "text/latex": [
       "$\\displaystyle \\left\\{\\left( \\frac{1.0}{h^{3}}, \\  - \\frac{3.0}{h^{3}}, \\  \\frac{3.0}{h^{3}}, \\  - \\frac{1.0}{h^{3}}\\right)\\right\\}$"
      ],
      "text/plain": [
       "{(1.0/h**3, -3.0/h**3, 3.0/h**3, -1.0/h**3)}"
      ]
     },
     "execution_count": 884,
     "metadata": {},
     "output_type": "execute_result"
    }
   ],
   "source": [
    "from sympy import *\n",
    "\n",
    "# Initialize symbolic variable\n",
    "h = Symbol('h')\n",
    "# Define the matrix system\n",
    "\n",
    "''' Trial 1. '''\n",
    "A_2 = Matrix([[1, 1, 1, 1], \n",
    "              [-2*h, -h, 0, h],\n",
    "              [2*(h**2), (1/2)*(h**2), 0, (1/2)*(h**2)],\n",
    "              [(-4/3)*(h**3), (-1/6)*(h**3), 0, (1/6)*(h**3)]])\n",
    "B_2 = Matrix([0, 0, 0, -1])\n",
    "\n",
    "''' Trial 2. '''\n",
    "# A_1 = Matrix([[-2*h, -h, h],\n",
    "#               [2*(h**2), (1/2)*(h**2), (1/2)*(h**2)],\n",
    "#               [(-4/3)*(h**3), (-1/6)*(h**3), (1/6)*(h**3)],\n",
    "#               [(2/3)*(h**4), (1/24)*(h**4), (1/24)*(h**4)]])\n",
    "# B_1 = Matrix([0, -1, 0])\n",
    "\n",
    "# Solve the linear system\n",
    "system_2 = A_2, B_2\n",
    "linsolve(system_2)"
   ]
  },
  {
   "cell_type": "markdown",
   "id": "33f3968b-af15-4754-a593-54be8824cb15",
   "metadata": {},
   "source": [
    "Test the coefficients to make sure they're 3rd-order accurate"
   ]
  },
  {
   "cell_type": "code",
   "execution_count": 887,
   "id": "b499e1d2-b8cb-408b-90d2-cf877e8b3cba",
   "metadata": {},
   "outputs": [
    {
     "name": "stdout",
     "output_type": "stream",
     "text": [
      "0th-order: 0.000\n",
      "1st-order: 0.000\n",
      "2nd-order: 0.000\n",
      "3rd-order: 0.000\n",
      "4th-order: 0.500\n"
     ]
    }
   ],
   "source": [
    "a, b, c, d, e = 1, -3, 3, -1, 1\n",
    "\n",
    "#\n",
    "print('0th-order: {0:.3f}'.format(a + b + c + d + 0*e))\n",
    "# '\n",
    "print('1st-order: {0:.3f}'.format(-2*a - b + 0*c + d + 0*e))\n",
    "# ''\n",
    "print('2nd-order: {0:.3f}'.format(2*a + (1/2)*b + 0*c + (1/2)*d + 0*e))\n",
    "# '''\n",
    "print('3rd-order: {0:.3f}'.format((-4/3)*a - (1/6)*b + 0*c + (1/6)*d + e))\n",
    "# '''\n",
    "print('4th-order: {0:.3f}'.format((16/24)*a + (1/24)*b + 0*c + (1/24)*d + 0*e))"
   ]
  },
  {
   "cell_type": "markdown",
   "id": "06acf8d3-b69d-4072-9d27-29e0f89550f8",
   "metadata": {},
   "source": [
    "### Auxiliary functions"
   ]
  },
  {
   "cell_type": "markdown",
   "id": "1bbdb18c-5ba6-4f9a-a63d-e23433596d8f",
   "metadata": {},
   "source": [
    "Root mean square (RMS) calculation"
   ]
  },
  {
   "cell_type": "code",
   "execution_count": 947,
   "id": "4342b496-a0be-49b8-9357-7990bdfc5d78",
   "metadata": {},
   "outputs": [],
   "source": [
    "def rms(x, y):\n",
    "    return np.sqrt(np.nansum(np.array([(x[i] - y[i])**2 for i in range(0, len(x))])/len(x)))"
   ]
  },
  {
   "cell_type": "markdown",
   "id": "a0664f28-bf2e-40dd-afbb-46bb3c32dfb9",
   "metadata": {},
   "source": [
    "Cyclic tridiagonal solver"
   ]
  },
  {
   "cell_type": "code",
   "execution_count": 946,
   "id": "ed3fd934-4987-412b-a9ea-83c0da3cbf5e",
   "metadata": {
    "tags": []
   },
   "outputs": [],
   "source": [
    "def cyc_tridiag(jmx, a, b, c, f):\n",
    "    \n",
    "    ''' Written by D. Durran, translated by S. Ditkovsky. '''\n",
    "    \n",
    "    # jmx = dimension of all arrays\n",
    "    # a = sub (lower) diagonal\n",
    "    # b = center diagonal\n",
    "    # c = super (upper) diagonal\n",
    "    # f = right hand side\n",
    "    \n",
    "    fmx = f[-1]\n",
    "    \n",
    "    # Create work arrays\n",
    "    q = np.empty(jmx)\n",
    "    s = np.empty(jmx)\n",
    "    \n",
    "    #forward elimination sweep\n",
    "    q[0] = -c[0]/b[0]\n",
    "    f[0] = f[0]/b[0]\n",
    "    s[0] = -a[0]/b[0]\n",
    "    \n",
    "    for j in range(jmx-1):\n",
    "        p = 1./(b[j+1]+ a[j+1]*q[j])\n",
    "        q[j+1] = -c[j+1]*p\n",
    "        f[j+1] = (f[j+1] - a[j+1]*f[j])*p\n",
    "        s[j+1] = -a[j+1]*s[j]*p\n",
    "        \n",
    "    #Backward pass\n",
    "    \n",
    "    q[-1] = 0.0\n",
    "    s[-1] = 1.0\n",
    "    \n",
    "    for j in reversed(range(jmx-1)):\n",
    "        s[j] = s[j] + q[j]*s[j+1]\n",
    "        q[j] = f[j] + q[j]*q[j+1]\n",
    "        \n",
    "    #final pass\n",
    "    f[-1] = (fmx-c[-1]*q[0] - a[-1]*q[-2])/(c[-1]*s[0] + a[-1]*s[-2] + b[-1])\n",
    "    \n",
    "    for j in range(jmx-1):\n",
    "        f[j] = f[-1]*s[j] + q[j]\n",
    "        \n",
    "    return f"
   ]
  }
 ],
 "metadata": {
  "kernelspec": {
   "display_name": "Python 3 (ipykernel)",
   "language": "python",
   "name": "python3"
  },
  "language_info": {
   "codemirror_mode": {
    "name": "ipython",
    "version": 3
   },
   "file_extension": ".py",
   "mimetype": "text/x-python",
   "name": "python",
   "nbconvert_exporter": "python",
   "pygments_lexer": "ipython3",
   "version": "3.10.5"
  }
 },
 "nbformat": 4,
 "nbformat_minor": 5
}
