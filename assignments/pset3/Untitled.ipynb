{
 "cells": [
  {
   "cell_type": "code",
   "execution_count": 1,
   "id": "ae0004c1-861d-4728-a8da-adff36df7da2",
   "metadata": {},
   "outputs": [],
   "source": [
    "import numpy as np"
   ]
  },
  {
   "cell_type": "code",
   "execution_count": 23,
   "id": "26bb8384-c5f4-45d2-bf97-3c32b65f9652",
   "metadata": {},
   "outputs": [],
   "source": [
    "sigma = 5.67*10**-8\n",
    "S_0 = 1360\n",
    "T_ei = 270\n",
    "\n",
    "a_i = 1 - T_ei**4 * 4*sigma/S_0\n",
    "a_f = 1 - (-2*(4*sigma/S_0)**(1/4) + (1-a_i)**(1/4))**4"
   ]
  },
  {
   "cell_type": "code",
   "execution_count": 24,
   "id": "c5a4dae9-4018-42d9-a3f2-b5b0690e6a73",
   "metadata": {},
   "outputs": [
    {
     "data": {
      "text/plain": [
       "0.22831190213997782"
      ]
     },
     "execution_count": 24,
     "metadata": {},
     "output_type": "execute_result"
    }
   ],
   "source": [
    "(a_f - a_i)/a_i"
   ]
  },
  {
   "cell_type": "code",
   "execution_count": 14,
   "id": "af5b32e9-81b7-45d5-8728-a2cce54698c9",
   "metadata": {},
   "outputs": [
    {
     "data": {
      "text/plain": [
       "0.1397130837082352"
      ]
     },
     "execution_count": 14,
     "metadata": {},
     "output_type": "execute_result"
    }
   ],
   "source": [
    "a_f"
   ]
  },
  {
   "cell_type": "code",
   "execution_count": 15,
   "id": "054ed4dd-a56f-4b8a-88b9-feba36a0f91f",
   "metadata": {},
   "outputs": [
    {
     "data": {
      "text/plain": [
       "0.8862560205882353"
      ]
     },
     "execution_count": 15,
     "metadata": {},
     "output_type": "execute_result"
    }
   ],
   "source": [
    "T_ei**4 * 4*sigma/S_0"
   ]
  },
  {
   "cell_type": "code",
   "execution_count": 16,
   "id": "28e3f06d-c2f1-47a0-b798-02e65a400925",
   "metadata": {},
   "outputs": [
    {
     "data": {
      "text/plain": [
       "0.11374397941176473"
      ]
     },
     "execution_count": 16,
     "metadata": {},
     "output_type": "execute_result"
    }
   ],
   "source": [
    "a_i"
   ]
  },
  {
   "cell_type": "code",
   "execution_count": 25,
   "id": "8ff1cf5b-b2f0-48ae-8ecb-83f6ed234eb8",
   "metadata": {},
   "outputs": [
    {
     "data": {
      "text/plain": [
       "100.0"
      ]
     },
     "execution_count": 25,
     "metadata": {},
     "output_type": "execute_result"
    }
   ],
   "source": [
    "np.sqrt(100*100)"
   ]
  },
  {
   "cell_type": "code",
   "execution_count": 22,
   "id": "a5d64901-f4f5-4c87-add5-7647b0da8fa6",
   "metadata": {},
   "outputs": [
    {
     "data": {
      "text/plain": [
       "1000000.0"
      ]
     },
     "execution_count": 22,
     "metadata": {},
     "output_type": "execute_result"
    }
   ],
   "source": []
  },
  {
   "cell_type": "code",
   "execution_count": null,
   "id": "b455f287-fe7d-406c-b780-76d746749111",
   "metadata": {},
   "outputs": [],
   "source": []
  }
 ],
 "metadata": {
  "kernelspec": {
   "display_name": "Python 3 (ipykernel)",
   "language": "python",
   "name": "python3"
  },
  "language_info": {
   "codemirror_mode": {
    "name": "ipython",
    "version": 3
   },
   "file_extension": ".py",
   "mimetype": "text/x-python",
   "name": "python",
   "nbconvert_exporter": "python",
   "pygments_lexer": "ipython3",
   "version": "3.10.5"
  }
 },
 "nbformat": 4,
 "nbformat_minor": 5
}
