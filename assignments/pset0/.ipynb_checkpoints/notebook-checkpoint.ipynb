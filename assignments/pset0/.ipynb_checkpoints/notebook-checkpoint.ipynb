{
 "cells": [
  {
   "cell_type": "code",
   "execution_count": 324,
   "id": "da6f8e93-f4c1-4f6b-92d0-2a359ab54ec6",
   "metadata": {},
   "outputs": [],
   "source": [
    "import numpy as np"
   ]
  },
  {
   "cell_type": "code",
   "execution_count": 334,
   "id": "6ab7f734-225b-4b5e-a488-780d4faacff9",
   "metadata": {},
   "outputs": [],
   "source": [
    "a_ = 1\n",
    "c_ = 1e-20\n",
    "\n",
    "a = a_\n",
    "c = c_\n",
    "b = -(a + c)"
   ]
  },
  {
   "cell_type": "markdown",
   "id": "e9d68ebb-6771-4745-8a38-1b67b5821196",
   "metadata": {},
   "source": [
    "Works for the larger of a or c"
   ]
  },
  {
   "cell_type": "code",
   "execution_count": 359,
   "id": "842e47f2-7ae6-4e61-83f0-ce42bc221504",
   "metadata": {},
   "outputs": [],
   "source": [
    "def quadratic(a, b, c):\n",
    "    print('a = {0}, b = {1}, c = {2}'.format(a, b, c))\n",
    "    return [(-b + np.sqrt(b**2 - 4*a*c))/(2*a), \n",
    "            (-b - np.sqrt(b**2 - 4*a*c))/(2*a)]"
   ]
  },
  {
   "cell_type": "code",
   "execution_count": 358,
   "id": "e93f8fc4-ea15-4faa-b1e7-421a6d7339e6",
   "metadata": {},
   "outputs": [
    {
     "name": "stdout",
     "output_type": "stream",
     "text": [
      "a = 1, b = -1.0, c = 1e-20\n"
     ]
    },
    {
     "data": {
      "text/plain": [
       "[1.0, 4e-20]"
      ]
     },
     "execution_count": 371,
     "metadata": {},
     "output_type": "execute_result"
    }
   ],
   "source": [
    "quadratic(a, b, c)"
   ]
  }
 ],
 "metadata": {
  "kernelspec": {
   "display_name": "Python 3 (ipykernel)",
   "language": "python",
   "name": "python3"
  },
  "language_info": {
   "codemirror_mode": {
    "name": "ipython",
    "version": 3
   },
   "file_extension": ".py",
   "mimetype": "text/x-python",
   "name": "python",
   "nbconvert_exporter": "python",
   "pygments_lexer": "ipython3",
   "version": "3.10.5"
  }
 },
 "nbformat": 4,
 "nbformat_minor": 5
}
