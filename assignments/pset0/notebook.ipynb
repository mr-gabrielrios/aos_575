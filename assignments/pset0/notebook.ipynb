{
 "cells": [
  {
   "cell_type": "code",
   "execution_count": 324,
   "id": "da6f8e93-f4c1-4f6b-92d0-2a359ab54ec6",
   "metadata": {},
   "outputs": [],
   "source": [
    "import numpy as np"
   ]
  },
  {
   "cell_type": "markdown",
   "id": "e9d68ebb-6771-4745-8a38-1b67b5821196",
   "metadata": {},
   "source": [
    "Define the quadratic function with customization to handle floating points."
   ]
  },
  {
   "cell_type": "code",
   "execution_count": 496,
   "id": "842e47f2-7ae6-4e61-83f0-ce42bc221504",
   "metadata": {},
   "outputs": [],
   "source": [
    "def quadratic(a, b, c, norm = 1/2):\n",
    "    # 'norm' is the exponent to normalize by (for example, '1/2' = square root)\n",
    "    \n",
    "    # Normalize all coefficients\n",
    "    a = a**(norm)\n",
    "    b = -(abs(b)**(norm))\n",
    "    c = c**(norm)\n",
    "    print('Normalized a = {0}, b = {1}, c = {2}'.format(a, b, c))\n",
    "    # Use the quadratic on the normalized coefficients and reverse the normalization to get roots\n",
    "    return [((-b + np.sqrt(b**2 - 4*a*c))/(2*a))**(1/norm), \n",
    "            ((-b - np.sqrt(b**2 - 4*a*c))/(2*a))**(1/norm)]"
   ]
  },
  {
   "cell_type": "markdown",
   "id": "f2dcfe7e-3799-4973-999a-32a642f4a379",
   "metadata": {},
   "source": [
    "Test case 1: nominal case (a = 1, b = -(1 + 1e-20), c = 1e-20)"
   ]
  },
  {
   "cell_type": "code",
   "execution_count": 487,
   "id": "e93f8fc4-ea15-4faa-b1e7-421a6d7339e6",
   "metadata": {},
   "outputs": [
    {
     "name": "stdout",
     "output_type": "stream",
     "text": [
      "Normalized a = 1.0, b = -1.0, c = 1e-10\n"
     ]
    },
    {
     "data": {
      "text/plain": [
       "[0.9999999998, 1.0000001654807488e-20]"
      ]
     },
     "execution_count": 487,
     "metadata": {},
     "output_type": "execute_result"
    }
   ],
   "source": [
    "a = 1\n",
    "c = 1e-20\n",
    "b = -(a + c)\n",
    "quadratic(a, b, c)"
   ]
  },
  {
   "cell_type": "markdown",
   "id": "e27d2f2b-daae-4dcd-99e8-6d02e92275e0",
   "metadata": {},
   "source": [
    "Test case 2: random coefficients with similar scales to nominal"
   ]
  },
  {
   "cell_type": "code",
   "execution_count": 488,
   "id": "70e3a26d-7c0f-4458-9f5f-b0c0b750cf78",
   "metadata": {},
   "outputs": [
    {
     "name": "stdout",
     "output_type": "stream",
     "text": [
      "Normalized a = 11.575836902790225, b = -11.575836902790225, c = 6.324555320336759e-10\n"
     ]
    },
    {
     "data": {
      "text/plain": [
       "[0.9999999998907283, 2.9850777742600163e-21]"
      ]
     },
     "execution_count": 488,
     "metadata": {},
     "output_type": "execute_result"
    }
   ],
   "source": [
    "a = 134\n",
    "c = 4e-19\n",
    "b = -(a + c)\n",
    "quadratic(a, b, c)"
   ]
  },
  {
   "cell_type": "markdown",
   "id": "80d69f13-2b26-40d1-9ddf-88bfdc6bf1c6",
   "metadata": {},
   "source": [
    "Test case 3: very small **c** value and different normalization exponent"
   ]
  },
  {
   "cell_type": "code",
   "execution_count": 489,
   "id": "d30f930d-25ee-4f8b-a68e-32da5564776b",
   "metadata": {},
   "outputs": [
    {
     "name": "stdout",
     "output_type": "stream",
     "text": [
      "Normalized a = 1.4142135623730951, b = -1.4142135623730951, c = 1.3160740129524924e-09\n"
     ]
    },
    {
     "data": {
      "text/plain": [
       "[0.9999999962775803, 7.500000332416309e-37]"
      ]
     },
     "execution_count": 489,
     "metadata": {},
     "output_type": "execute_result"
    }
   ],
   "source": [
    "a = 4\n",
    "c = 3e-36\n",
    "b = -(a + c)\n",
    "quadratic(a, b, c, norm = 1/4)"
   ]
  },
  {
   "cell_type": "markdown",
   "id": "c046dd42-f1fe-490b-b0fc-176cf91449a7",
   "metadata": {},
   "source": [
    "Test case 4: negative coefficients\n",
    "Note: negative coefficients yield imaginary components, since normalization is performed by getting a square, cube, or other root. Another normalization process should be used in the future."
   ]
  },
  {
   "cell_type": "code",
   "execution_count": 501,
   "id": "8834840d-9a09-4f5e-8399-5c29676f0c22",
   "metadata": {},
   "outputs": [
    {
     "name": "stdout",
     "output_type": "stream",
     "text": [
      "Normalized a = (6.123233995736766e-17+1j), b = -1.0, c = 1e-10\n"
     ]
    },
    {
     "data": {
      "text/plain": [
       "[(-1+1.999998775353201e-10j), (1.0000000000000001e-20+1.2246467991473533e-36j)]"
      ]
     },
     "execution_count": 501,
     "metadata": {},
     "output_type": "execute_result"
    }
   ],
   "source": [
    "a = -1\n",
    "c = 1e-20\n",
    "b = -(a + c)\n",
    "quadratic(a, b, c, norm=1/2)"
   ]
  }
 ],
 "metadata": {
  "kernelspec": {
   "display_name": "Python 3 (ipykernel)",
   "language": "python",
   "name": "python3"
  },
  "language_info": {
   "codemirror_mode": {
    "name": "ipython",
    "version": 3
   },
   "file_extension": ".py",
   "mimetype": "text/x-python",
   "name": "python",
   "nbconvert_exporter": "python",
   "pygments_lexer": "ipython3",
   "version": "3.10.5"
  }
 },
 "nbformat": 4,
 "nbformat_minor": 5
}
