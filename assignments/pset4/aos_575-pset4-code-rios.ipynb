{
 "cells": [
  {
   "cell_type": "markdown",
   "id": "0c9fceb8-7545-44b5-a42d-ea744d20f334",
   "metadata": {},
   "source": [
    "## AOS 575, Problem Set 4"
   ]
  },
  {
   "cell_type": "markdown",
   "id": "379290c3-0f9a-4296-92b7-26e59454c7c0",
   "metadata": {},
   "source": [
    "### Imports"
   ]
  },
  {
   "cell_type": "code",
   "execution_count": 228,
   "id": "1a0e1626-db09-4a78-a8ad-e251d0d82580",
   "metadata": {},
   "outputs": [],
   "source": [
    "import numpy as np\n",
    "import matplotlib\n",
    "import matplotlib.pyplot as plt\n",
    "\n",
    "import pandas as pd # Only used for data statistics during debugging"
   ]
  },
  {
   "cell_type": "code",
   "execution_count": 229,
   "id": "51fcc33d-46ec-498f-af60-f638687f9726",
   "metadata": {},
   "outputs": [],
   "source": [
    "%config InlineBackend.figure_format = 'png'"
   ]
  },
  {
   "cell_type": "markdown",
   "id": "b0e14cdf-560e-431f-885d-c257d5dde5a3",
   "metadata": {},
   "source": [
    "## Problem 1"
   ]
  },
  {
   "cell_type": "markdown",
   "id": "cd8a4b7e-c5ed-4f2d-848c-aaa547860338",
   "metadata": {},
   "source": [
    "#### Definitions"
   ]
  },
  {
   "cell_type": "markdown",
   "id": "bcad8d35-28b5-416b-800a-0f99eb66e29c",
   "metadata": {},
   "source": [
    "Function for $u$ (horizontal component of velocity)"
   ]
  },
  {
   "cell_type": "code",
   "execution_count": 230,
   "id": "60913f13-8e1e-4e43-ba36-17e654f3e080",
   "metadata": {},
   "outputs": [],
   "source": [
    "def u_x(x, y, t):\n",
    "    ''' Define horizontal component of velocity. '''\n",
    "    return (np.sin(np.pi*x)**2)*np.sin(2*np.pi*y)*np.cos(np.pi*t/5)"
   ]
  },
  {
   "cell_type": "markdown",
   "id": "53cc8880-8140-43ea-b3c2-46c779d73eb1",
   "metadata": {},
   "source": [
    "Function for $v$ (vertical component of velocity)"
   ]
  },
  {
   "cell_type": "code",
   "execution_count": 231,
   "id": "9fc151ca-05a4-40aa-bb57-0ac11f97bbf3",
   "metadata": {},
   "outputs": [],
   "source": [
    "def u_y(x, y, t):\n",
    "    ''' Define vertical component of velocity. '''\n",
    "    return -np.sin(2*np.pi*x)*(np.sin(np.pi*y)**2)*np.cos(np.pi*t/5)"
   ]
  },
  {
   "cell_type": "markdown",
   "id": "193cee35-5ec6-4eff-a118-83c86c09743e",
   "metadata": {},
   "source": [
    "Function to select $r$ value at each grid point"
   ]
  },
  {
   "cell_type": "code",
   "execution_count": 232,
   "id": "a7f2d603-877b-4559-aff1-067afad7d09c",
   "metadata": {},
   "outputs": [],
   "source": [
    "def r_sel(c, v, print_bool=False):\n",
    "    ''' Decide r value to use at each grid point given a constant and variable array. '''\n",
    "    \n",
    "    # Lengths in the horizontal (x) and vertical (y) directions\n",
    "    l_x, l_y = c.shape[0], c.shape[1]\n",
    "    # Initialize array for r\n",
    "    r = np.full(shape=(l_x, l_y), fill_value=np.nan)\n",
    "    # Iterate over each grid point\n",
    "    for i in range(0, l_x):\n",
    "        for j in range(0, l_y):\n",
    "            # Print values\n",
    "            print('x: {0:4d} | y: {1:4d} | C: {2:5.2f}, V:{3:5.2f}'.format(i, j, c[i, j], v[i, j])) if print_bool else None\n",
    "            # Select lesser of both values\n",
    "            r[i, j] = np.nanmin([c[i, j], v[i, j]])\n",
    "\n",
    "    return r"
   ]
  },
  {
   "cell_type": "markdown",
   "id": "09107e74-4a74-46f1-8489-15da59fff802",
   "metadata": {},
   "source": [
    "Update staggered grid values based on current timestep"
   ]
  },
  {
   "cell_type": "code",
   "execution_count": 233,
   "id": "ddf69b89-f67d-4ae4-b205-ea3ca1eaa99c",
   "metadata": {},
   "outputs": [],
   "source": [
    "def regen(phi, X_stag, Y_stag):\n",
    "    ''' Regenerate staggered grid values for fields that are functions of the velocity (rho, phi). '''\n",
    "    \n",
    "    # Define number of points in x and y, assuming same number of points in each direction\n",
    "    ny, nx = phi.shape\n",
    "    \n",
    "    # Initialize fresh staggered grids\n",
    "    phi_stag = np.full(shape=(ny-1, nx-1), fill_value=np.nan, dtype=float)\n",
    "    \n",
    "    # Iterate over points and average from surrounding points (average of 4 'surrounding' points)\n",
    "    for i in range(1, ny):\n",
    "        for j in range(1, nx):\n",
    "            phi_stag[i-1, j-1] = np.mean([phi[i, j], phi[i, j-1], phi[i-1, j], phi[i-1, j-1]])\n",
    "        \n",
    "    return phi_stag"
   ]
  },
  {
   "cell_type": "markdown",
   "id": "b1629021-8c4b-4148-9b8f-d2c9caae74b2",
   "metadata": {},
   "source": [
    "#### Model initialization\n",
    "Initialize parameters for the model, grid, and data structures."
   ]
  },
  {
   "cell_type": "code",
   "execution_count": 398,
   "id": "8af9fa9a-0080-4c33-bae7-f16eda0e780c",
   "metadata": {
    "tags": []
   },
   "outputs": [],
   "source": [
    "''' Define grid parameters. '''\n",
    "\n",
    "x_min, x_max = [0, 1] # Horizontal domain limits\n",
    "y_min, y_max = [0, 1] # Vertical domain limits\n",
    "dx = 0.02 # Horizontal grid spacing\n",
    "dy = dx # Vertical grid spacing\n",
    "\n",
    "# Generate horizonal and vertical grid points\n",
    "gp_x = np.arange(x_min, x_max+dx, dx) \n",
    "gp_y = np.arange(y_min, y_max+dy, dy) \n",
    "X, Y = np.meshgrid(gp_x, gp_y)\n",
    "\n",
    "# Generate 1/2-point staggered grid\n",
    "gp_x_stag = np.arange(x_min+(dx/2), x_max, dx) \n",
    "gp_y_stag = np.arange(x_min+(dx/2), x_max, dx) \n",
    "X_stag, Y_stag = np.meshgrid(gp_x_stag, gp_y_stag)\n",
    "\n",
    "''' Define model parameters. '''\n",
    "\n",
    "c = 0.5 # Courant number\n",
    "dt = 0.5*dx # Note: maximum value of velocity field is 1\n",
    "t_max = 7.5 # Maximum time\n",
    "times = np.arange(0, t_max, dt) # Define time array\n",
    "\n",
    "''' Initialize velocity field, tracer concentration, and density arrays. '''\n",
    "# Note: the density array is included for Easter's pseudocompressibility method. As it is a 'pseudo-density', it will be set to be 1.\n",
    "\n",
    "# Base grid: initiate 3-dimensional arrays dictated by (x, y, t)\n",
    "u = np.full(shape=(len(gp_x), len(gp_y), len(times)), fill_value=np.nan)\n",
    "v = np.full(shape=(len(gp_x), len(gp_y), len(times)), fill_value=np.nan)\n",
    "phi = np.full(shape=(len(gp_x), len(gp_y), len(times)), fill_value=np.nan)\n",
    "rho = np.full(shape=(len(gp_x), len(gp_y), len(times)), fill_value=1)\n",
    "F = np.full(shape=(len(gp_x), len(gp_y), len(times)), fill_value=np.nan)\n",
    "G = np.full(shape=(len(gp_x), len(gp_y), len(times)), fill_value=np.nan)\n",
    "\n",
    "# Staggered grid: initiate 3-dimensional arrays dictated by (x, y, t)\n",
    "u_stag = np.full(shape=(len(gp_x_stag), len(gp_y_stag), len(times)), fill_value=np.nan)\n",
    "v_stag = np.full(shape=(len(gp_x_stag), len(gp_y_stag), len(times)), fill_value=np.nan)\n",
    "phi_stag = np.full(shape=(len(gp_x_stag), len(gp_y_stag), len(times)), fill_value=np.nan)\n",
    "rho_stag = np.full(shape=(len(gp_x_stag), len(gp_y_stag), len(times)), fill_value=1)\n",
    "\n",
    "# Starting position of tracer concentration\n",
    "x0, y0 = 1/4, 1/4\n",
    "\n",
    "# Initialize tracer concentrations\n",
    "r_const = np.full(shape=(len(gp_x), len(gp_y)), fill_value=1) # Constant argument for r\n",
    "r_var = 4*np.sqrt((X-x0)**2 + (Y-y0)**2) # Variable argument for r\n",
    "r = r_sel(r_const, r_var, print_bool=print_bool)\n",
    "\n",
    "r_const_stag = np.full(shape=(len(gp_x_stag), len(gp_y_stag)), fill_value=1) # Constant argument for r\n",
    "r_var_stag = 4*np.sqrt((X_stag-x0)**2 + (Y_stag-y0)**2) # Variable argument for r\n",
    "r_stag = r_sel(r_const_stag, r_var_stag, print_bool=print_bool)"
   ]
  },
  {
   "cell_type": "markdown",
   "id": "ed79331a-3df3-4c46-8204-5495f6e6c5e9",
   "metadata": {},
   "source": [
    "#### Implentation of numerical methods"
   ]
  },
  {
   "cell_type": "markdown",
   "id": "5d78a39f-76ae-40d7-af27-f736b5fa984e",
   "metadata": {},
   "source": [
    "__Piecewise linear method__: use second-to-last form from Lecture 9: Tracer Advection, Slide 10:\n",
    "\n",
    "$ F_{i+1/2} = \\frac{c \\Delta x}{\\Delta t} \\left[\\phi_i + \\frac{1}{2} \\Delta \\phi_i (1-c) \\right] $\n",
    "* Note: assume that $\\Delta \\phi$ indicates change in value between grid points."
   ]
  },
  {
   "cell_type": "code",
   "execution_count": 236,
   "id": "411e86e8-1cfa-417e-a89a-9f586f53b1f5",
   "metadata": {},
   "outputs": [],
   "source": [
    "def plm(phi, phi_stag, u, v, c, dx, dy, dt):\n",
    "    ''' \n",
    "    Piecewise linear method, generates F_{i(+/-)1/2} and G_{i(+/-)1/2} for each grid point. \n",
    "    Work off of the base grid (X, Y).\n",
    "    '''\n",
    "\n",
    "    # Redefine grid size\n",
    "    ny, nx = phi.shape\n",
    "    \n",
    "    # Initialize arrays for F and G. Initialize at zero to handle domain boundaries.\n",
    "    F = np.full(shape=phi.shape, fill_value=0, dtype=float)\n",
    "    G = np.full(shape=phi.shape, fill_value=0, dtype=float)\n",
    "    \n",
    "    # Iterate over the arrays\n",
    "    for i in range(1, ny-2): # iterate over rows\n",
    "        for j in range(1, nx-2): # iterate over columns\n",
    "            \n",
    "            sigma_x = ((phi[i, j+1] - phi[i, j])/dx)\n",
    "            sigma_y = ((phi[i+1, j] - phi[i, j])/dy)\n",
    "            \n",
    "            F[i, j] = u[i, j]*(phi[i, j] + (1-(u[i, j]*dt/dx))*dx*sigma_x/2) # 5.55\n",
    "            G[i, j] = v[i, j]*(phi[i, j] + (1-(v[i, j]*dt/dx))*dy*sigma_y/2)\n",
    "            \n",
    "            # Check for TVD\n",
    "            if F[i, j] + G[i, j] >= 1:\n",
    "                print('\\t TVD violated at ({0}, {1}): {2:.3f}'.format(i, j, F[i, j] + G[i, j])) if print_bool else None\n",
    "                      \n",
    "    return F, G"
   ]
  },
  {
   "cell_type": "markdown",
   "id": "377b833a-3d52-42e1-8019-055f4e7a70ee",
   "metadata": {},
   "source": [
    "__Pseudocompressibility method__: Lecture 9: Tracer Advection, Slide 22."
   ]
  },
  {
   "cell_type": "code",
   "execution_count": 412,
   "id": "aea29298-179f-4383-973b-59bc9d1de541",
   "metadata": {},
   "outputs": [],
   "source": [
    "def ps(base_fields, stag_fields, t, c, dx, dy, dt, X_stag, Y_stag):\n",
    "    ''' \n",
    "    Easter's pseudocompressibility method. \n",
    "    '''\n",
    "    \n",
    "    # Unpack field arrays\n",
    "    # Note: For staggered grids, trailing by one grid cell: i+(1/2) --> i, i-(1/2) --> i-1\n",
    "    u, v, rho, phi = base_fields\n",
    "    u_stag, v_stag, rho_stag, phi_stag = stag_fields\n",
    "    \n",
    "    # Redefine grid size\n",
    "    ny, nx = u.shape\n",
    "    \n",
    "    # Initialize intermediate arrays - the '_n' suffix indicates n+1 timestep\n",
    "    rho_s = np.full(shape=u.shape, fill_value=rho, dtype=float)\n",
    "    rho_phi_s = np.full(shape=u.shape, fill_value=(rho*phi), dtype=float)\n",
    "    phi_s = np.full(shape=u.shape, fill_value=phi, dtype=float)\n",
    "    rho_n = np.full(shape=u.shape, fill_value=rho, dtype=float)\n",
    "    rho_phi_n = np.full(shape=u.shape, fill_value=(rho*phi), dtype=float)\n",
    "    phi_n = np.full(shape=u.shape, fill_value=phi, dtype=float)\n",
    "    \n",
    "    # Enable to prevent Strang splitting\n",
    "    # t = 0\n",
    "    # Enable to disable pseudocompressibility\n",
    "    ps_null = True\n",
    "    \n",
    "    if t % 2 == 0:\n",
    "        F, _ = plm(phi, phi_stag, u_stag, v_stag, c, dx, dy, dt)\n",
    "\n",
    "        for i in range(1, ny-1): \n",
    "            for j in range(1, nx-1): \n",
    "                rho_phi_s[i, j] = rho[i, j]*phi[i, j] + (dt/dx)*(F[i, j-1] - F[i, j])\n",
    "                rho_s[i, j] = rho[i, j] + (dt/dx)*(u_stag[i, j-1] - u_stag[i, j])\n",
    "                # Nullify pseudocompressibility if boolean tripped\n",
    "                rho_s[i, j] = 1 if ps_null else rho_s[i, j]\n",
    "                phi_s[i, j] = rho_phi_s[i, j]/rho_s[i, j]\n",
    "\n",
    "        phi_stag = regen(phi_s, X_stag, Y_stag)\n",
    "        _, G = plm(phi_s, phi_stag, u_stag, v_stag, c, dx, dy, dt)\n",
    "\n",
    "        for i in range(1, ny-1): \n",
    "            for j in range(1, nx-1): \n",
    "                rho_phi_n[i, j] = rho_phi_s[i, j] + (dt/dy)*(G[i-1, j] - G[i, j])\n",
    "                rho_n[i, j] = rho_s[i, j] + (dt/dy)*(v_stag[i-1, j] - v_stag[i, j])\n",
    "                phi_n[i, j] = rho_phi_n[i, j]/rho_n[i, j]\n",
    "    else:\n",
    "        \n",
    "        _, G = plm(phi, phi_stag, u_stag, v_stag, c, dx, dy, dt)\n",
    "\n",
    "        for i in range(1, nx-1): \n",
    "            for j in range(1, ny-1): \n",
    "                rho_phi_s[i, j] = rho[i, j]*phi[i, j] + (dt/dy)*(G[i-1, j] - G[i, j])\n",
    "                rho_s[i, j] = rho[i, j] + (dt/dy)*(v_stag[i-1, j] - v_stag[i, j])\n",
    "                # Nullify pseudocompressibility if boolean tripped\n",
    "                rho_s[i, j] = 1 if ps_null else rho_s[i, j]\n",
    "                phi_s[i, j] = rho_phi_s[i, j]/rho_s[i, j]\n",
    "\n",
    "        phi_stag = regen(phi_s, X_stag, Y_stag)\n",
    "        F, _ = plm(phi_s, phi_stag, u_stag, v_stag, c, dx, dy, dt)\n",
    "\n",
    "        for i in range(1, nx-1): \n",
    "            for j in range(1, ny-1): \n",
    "                rho_phi_n[i, j] = rho_phi_s[i, j] + (dt/dx)*(F[i, j-1] - F[i, j])\n",
    "                rho_n[i, j] = rho_s[i, j] + (dt/dx)*(u_stag[i, j-1] - u_stag[i, j])\n",
    "                phi_n[i, j] = rho_phi_n[i, j]/rho_n[i, j]\n",
    "        \n",
    "    return F, G, rho_s, phi_n"
   ]
  },
  {
   "cell_type": "code",
   "execution_count": 9,
   "id": "fe38caa8-8cd8-4ceb-8844-17a3424b5200",
   "metadata": {},
   "outputs": [],
   "source": [
    "# Switch to turn printing on or off for debugging\n",
    "print_bool = False"
   ]
  },
  {
   "cell_type": "markdown",
   "id": "478dfa84-f1ba-41ff-bc1a-6b849a730531",
   "metadata": {},
   "source": [
    "#### Run the numerical scheme"
   ]
  },
  {
   "cell_type": "code",
   "execution_count": 413,
   "id": "cf852563-97ec-4d46-b3e9-265ab960cdf1",
   "metadata": {
    "tags": []
   },
   "outputs": [],
   "source": [
    "# Define artificial loop step limit for debugging\n",
    "loop_max = 500\n",
    "\n",
    "rho_s = rho.copy()\n",
    "\n",
    "for i, t in enumerate(times):\n",
    "    # Cut at initial timestep for now\n",
    "    if i > loop_max:\n",
    "        break\n",
    "        \n",
    "    # Print variables for each time step\n",
    "    print('Time step: {0:4d} | Time: {1:4.2f} s'.format(i, t)) if print_bool else None\n",
    "    \n",
    "    # Assign velocity field and tracer concentration for the given timestep\n",
    "    u[:, :, i], v[:, :, i] = u_x(X, Y, t), u_y(X, Y, t)\n",
    "    u_stag[:, :, i], v_stag[:, :, i] = u_x(X_stag, Y_stag, t), u_y(X_stag, Y_stag, t)\n",
    "     \n",
    "    # Initialize non-velocity fields\n",
    "    if i == 0:\n",
    "        phi[:, :, i] = (1/2)*(1 + np.cos(np.pi*r)) \n",
    "        phi_stag[:, :, i] = (1/2)*(1 + np.cos(np.pi*r_stag))\n",
    "    \n",
    "    base_fields = [u[:, :, i], v[:, :, i], rho[:, :, i], phi[:, :, i]]\n",
    "    stag_fields = [u_stag[:, :, i], v_stag[:, :, i], rho_stag[:, :, i], phi_stag[:, :, i]]\n",
    "    F[:, :, i+1], G[:, :, i+1], rho_s[:, :, i+1], phi[:, :, i+1] = ps(base_fields, stag_fields, i, c, dx, dy, dt, X_stag, Y_stag)\n",
    "    phi_stag[:, :, i+1] = regen(phi[:, :, i+1], X_stag, Y_stag)\n",
    "    \n",
    "    print ('-----------------') if print_bool else None"
   ]
  },
  {
   "cell_type": "markdown",
   "id": "2400f4c0-4184-4670-b2b8-d87ade8e9149",
   "metadata": {},
   "source": [
    "#### Visualization"
   ]
  },
  {
   "cell_type": "markdown",
   "id": "7bebdbde-64d7-4c95-ab1d-2edfdef0aab0",
   "metadata": {},
   "source": [
    "Plot data"
   ]
  },
  {
   "cell_type": "code",
   "execution_count": 427,
   "id": "144f75c1-49e3-4b4a-92f6-bf152e29837f",
   "metadata": {},
   "outputs": [],
   "source": [
    "def plot(x, y, dx, u, v, phi, F, G, rho, times, t=0):\n",
    "    \n",
    "    # Select timesteps of interest\n",
    "    u, v, phi, phi_ref = u[:, :, t], v[:, :, t], phi[:, :, t], phi[:, :, 0]\n",
    "    F, G = F[:, :, t], G[:, :, t]\n",
    "    rho = rho[:, :, t]\n",
    "    \n",
    "    fig, axs = plt.subplots(figsize=(10, 5), ncols=4, sharey=True)\n",
    "    [ax_phi, ax_F, ax_G, ax_rho] = axs\n",
    "    \n",
    "    ''' Quiver plot (q) for velocity & tracer field. '''\n",
    "    q = ax_phi.quiver(x, y, u, v)   \n",
    "    dc = 0.1\n",
    "    P_ref = ax_phi.contour(x, y, phi_ref, levels=np.arange(dc, 1+dc, dc), colors='k', alpha=0.25)\n",
    "    P = ax_phi.contour(x, y, phi, levels=np.arange(dc, 1+dc, dc))\n",
    "    \n",
    "    ''' Contour plot for fluxes. '''    \n",
    "    norm_flux = matplotlib.colors.TwoSlopeNorm(vcenter=0)\n",
    "    f = ax_F.contourf(x, y, F, cmap='RdBu_r', levels=16, norm=norm_flux)\n",
    "    g = ax_G.contourf(x, y, G, cmap='RdBu_r', levels=16, norm=norm_flux)\n",
    "    \n",
    "    ''' Contour plot for density. '''\n",
    "    p = ax_rho.contourf(x, y, rho, cmap='plasma')\n",
    "    \n",
    "    ''' Figure formatting. '''\n",
    "    # Equal aspect ratio everywhere\n",
    "    [ax.set_aspect('equal') for ax in axs]\n",
    "    \n",
    "    def colorbar(ax, field, plot_var, name):\n",
    "        cax = fig.add_axes([ax.get_position().x0,\n",
    "                            ax.get_position().y0 - 0.1,\n",
    "                            ax.get_position().width,\n",
    "                            0.02])\n",
    "        cbar = fig.colorbar(plot_var, cax=cax, orientation='horizontal')\n",
    "        cbar.set_label(name, labelpad=15)\n",
    "        cbar.ax.tick_params(rotation=90)\n",
    "        \n",
    "        return cax, cbar\n",
    "    \n",
    "    # Format colorbars\n",
    "    cax_phi, cbar_phi = colorbar(ax_phi, phi, P, '$\\psi$')\n",
    "    cax_F, cbar_F = colorbar(ax_F, F, f, 'F')\n",
    "    cax_G, cbar_G = colorbar(ax_G, G, g, 'G')\n",
    "    cax_rho, cbar_rho = colorbar(ax_rho, rho, p, '$p$')\n",
    "    \n",
    "    # Figure formatting\n",
    "    fs_ax = 10\n",
    "    \n",
    "    ax_phi.set_title('Tracer concentration ($\\psi$)', fontsize=fs_ax)\n",
    "    ax_F.set_title('Horizontal flux (F)', fontsize=fs_ax)\n",
    "    ax_G.set_title('Vertical flux (G)', fontsize=fs_ax)\n",
    "    ax_rho.set_title('Pseudodensity (h)', fontsize=fs_ax)\n",
    "    \n",
    "    fig.suptitle('Time: {0:.2f} s'.format(times[t]), y=0.8)\n",
    "    # plt.show()\n",
    "    \n",
    "    plt.savefig('figs/output-dx_{0:.2f}-t{1}_nopseudo.png'.format(dx, t), dpi=300, bbox_inches='tight')"
   ]
  },
  {
   "cell_type": "code",
   "execution_count": 430,
   "id": "eceb958e-b662-49c7-a3be-87d9d598ae8d",
   "metadata": {
    "tags": []
   },
   "outputs": [],
   "source": [
    "plot(X, Y, dx, u, v, phi, F, G, rho_s, times, t=500)"
   ]
  },
  {
   "cell_type": "markdown",
   "id": "276a1c4d-7149-4a05-a77f-ccd2b01c2cda",
   "metadata": {},
   "source": [
    "Animation"
   ]
  },
  {
   "cell_type": "code",
   "execution_count": null,
   "id": "0ed75f11-e866-4c6f-941d-59c4a54343fd",
   "metadata": {},
   "outputs": [],
   "source": [
    "from matplotlib import animation\n",
    "import matplotlib.pyplot as plt_\n",
    "plt_.rcParams[\"animation.html\"] = \"jshtml\"\n",
    "plt_.ioff()\n",
    "plt_.cla()\n",
    "\n",
    "# Set up plotting\n",
    "fig, ax = plt_.subplots(figsize=(4, 4))\n",
    "\n",
    "# Animation function\n",
    "def animate(i):\n",
    "    # Multiplier to skip over frames\n",
    "    n = 10\n",
    "    # Clear past iteration's data\n",
    "    ax.cla()\n",
    "    # Quiver plot\n",
    "    q = ax.quiver(X, Y, u[:, :, n*i], v[:, :, n*i])\n",
    "    # Contour plot\n",
    "    P = ax.contour(X, Y, phi[:, :, n*i], levels=np.arange(0.1, 1, 0.1))\n",
    "    # Figure formatting\n",
    "    ax.set_title('Time: {0:.2f} s'.format(times[n*i]))\n",
    "    ax.set_aspect('equal')\n",
    "\n",
    "# Animation generation and save settings\n",
    "intv = 75 \n",
    "fps = 1000/intv\n",
    "animation.FuncAnimation(fig, animate, frames=50, interval=intv)\n",
    "# anim = animation.FuncAnimation(fig, animate, frames=10, interval=intv)\n",
    "# anim.save('figs/animation_20221108-success-dx_0.02.gif', dpi=300)"
   ]
  },
  {
   "cell_type": "markdown",
   "id": "ce79ac44-9350-4a1a-a088-998a3f9469aa",
   "metadata": {},
   "source": [
    "Run this cell to allow for single plots again"
   ]
  },
  {
   "cell_type": "code",
   "execution_count": 2086,
   "id": "5f1f1be6-d767-4a22-9ae7-3d3a04d9dfe6",
   "metadata": {},
   "outputs": [
    {
     "data": {
      "text/plain": [
       "<AxesSubplot:title={'center':'Time: 4.95 s'}>"
      ]
     },
     "execution_count": 2086,
     "metadata": {},
     "output_type": "execute_result"
    }
   ],
   "source": [
    "# Reset rcParams\n",
    "plt.rcParams.update(plt.rcParamsDefault)\n",
    "plt.gca()"
   ]
  },
  {
   "cell_type": "markdown",
   "id": "f01b53ae-4e98-4f97-801d-05592f17a788",
   "metadata": {},
   "source": [
    "Function to plot grid"
   ]
  },
  {
   "cell_type": "code",
   "execution_count": 1088,
   "id": "8652ae2f-f324-40df-830b-f3d5576ea8bf",
   "metadata": {},
   "outputs": [],
   "source": [
    "def grid_plot(x, y, x_int, y_int,bounds=None):\n",
    "    \n",
    "    fig, ax = plt.subplots(figsize=(4,4))\n",
    "    im_grid = ax.scatter(x, y, s=1, c='k', alpha=0.5, label='Base')\n",
    "    im_grid_int = ax.scatter(x_int, y_int, s=0.5, c='tab:blue', alpha=0.5, label='Intermediate')\n",
    "    \n",
    "    for i in range(0, len(y)):\n",
    "        for j in range(0, len(x)):\n",
    "            if i % 10 == 0 and j % 10 == 0:\n",
    "                ax.text(x[i, j], y[i, j], '({0}, {1})'.format(i, j))\n",
    "    \n",
    "    if bounds:\n",
    "        ax.set_xlim([x_min, x_max])\n",
    "        ax.set_ylim([y_min, y_max])\n",
    "    \n",
    "    ax.set_aspect('equal')\n",
    "    fig.legend(frameon=False, bbox_to_anchor=(1.275, 0.9))\n",
    "    plt.show()"
   ]
  },
  {
   "cell_type": "markdown",
   "id": "685242b8-d93f-4d0c-b367-d167cc875f27",
   "metadata": {},
   "source": [
    "#### Save model runs for comparison"
   ]
  },
  {
   "cell_type": "markdown",
   "id": "ce38ec63-ac66-45eb-82b6-3049c2d1da78",
   "metadata": {},
   "source": [
    "dx = dy = 0.02"
   ]
  },
  {
   "cell_type": "code",
   "execution_count": 380,
   "id": "7fa5137c-9070-4509-bfd2-78f7e7611463",
   "metadata": {},
   "outputs": [],
   "source": [
    "# Strang splitting used\n",
    "phi_split_dx002 = phi.copy()\n",
    "F_split_dx002 = F.copy()\n",
    "G_split_dx002 = G.copy()"
   ]
  },
  {
   "cell_type": "code",
   "execution_count": 414,
   "id": "5d60bc70-fdfa-4a90-b4c0-25ababa78259",
   "metadata": {},
   "outputs": [],
   "source": [
    "# Strang splitting, no pseudocompressibility\n",
    "phi_split_dx002_nopseudo = phi.copy()\n",
    "F_split_dx002_nopseudo = F.copy()\n",
    "G_split_dx002_nopseudo = G.copy()"
   ]
  },
  {
   "cell_type": "code",
   "execution_count": 383,
   "id": "05219a28-a31b-4cf9-9e45-bd13917b3e49",
   "metadata": {},
   "outputs": [],
   "source": [
    "# Strang splitting not used\n",
    "phi_unsplit_dx002 = phi.copy()\n",
    "F_unsplit_dx002 = F.copy()\n",
    "G_unsplit_dx002 = G.copy()"
   ]
  },
  {
   "cell_type": "markdown",
   "id": "583fb396-f7d3-4a70-9511-e24f689fcb69",
   "metadata": {},
   "source": [
    "dx = dy = 0.01"
   ]
  },
  {
   "cell_type": "code",
   "execution_count": 387,
   "id": "3c61b629-c16c-4bc1-a054-625c08a0e436",
   "metadata": {},
   "outputs": [],
   "source": [
    "# Strang splitting used\n",
    "phi_split_dx001 = phi.copy()\n",
    "F_split_dx001 = F.copy()\n",
    "G_split_dx001 = G.copy()"
   ]
  },
  {
   "cell_type": "code",
   "execution_count": 390,
   "id": "e9d8ecf8-7e16-42be-a02f-67a4b57fa581",
   "metadata": {},
   "outputs": [],
   "source": [
    "# Strang splitting not used\n",
    "phi_unsplit_dx001 = phi.copy()\n",
    "F_unsplit_dx001 = F.copy()\n",
    "G_unsplit_dx001 = G.copy()"
   ]
  },
  {
   "cell_type": "markdown",
   "id": "562954ac-7f84-4e10-b5c2-032dbdbbb6ab",
   "metadata": {},
   "source": [
    "Plot differences between split and unsplit methods"
   ]
  },
  {
   "cell_type": "code",
   "execution_count": 436,
   "id": "f02a3676-0b09-4a33-9bba-b07618fc577a",
   "metadata": {},
   "outputs": [],
   "source": [
    "eval_step = 500\n",
    "dx_split = 0.02\n",
    "dphi = phi_split_dx002[:, :, eval_step]-phi_split_dx002_nopseudo[:, :, eval_step]\n",
    "fig, ax = plt.subplots(figsize=(3, 3))\n",
    "\n",
    "norm = matplotlib.colors.TwoSlopeNorm(vcenter=0)\n",
    "\n",
    "im = ax.contourf(X, Y, dphi, levels=16, cmap='RdBu_r', norm=norm)\n",
    "\n",
    "cax = fig.add_axes([ax.get_position().x1 + 0.02,\n",
    "                            ax.get_position().y0,\n",
    "                            0.03,\n",
    "                            ax.get_position().height])\n",
    "cbar = fig.colorbar(im, cax=cax)\n",
    "cbar.set_label('$\\Delta \\psi$', labelpad=15, rotation=270)\n",
    "\n",
    "ax.set_title('$\\Delta$ x= 0.02, pseudo - no_pseudo')\n",
    "ax.set_aspect('equal')\n",
    "\n",
    "# plt.show()\n",
    "plt.savefig('figs/nopseudo-t{0}-dx_{1:.2f}.png'.format(eval_step, dx_split), dpi=300, bbox_inches='tight')"
   ]
  },
  {
   "cell_type": "markdown",
   "id": "a9dbd8c0-9425-405a-8bbe-9f66ad431e07",
   "metadata": {},
   "source": [
    "## Problem 3"
   ]
  },
  {
   "cell_type": "code",
   "execution_count": 555,
   "id": "8953bfc5-fb63-4b15-abdd-626186effcce",
   "metadata": {},
   "outputs": [],
   "source": [
    "R = 1\n",
    "\n",
    "dx0, dy0, dx1, dy1 = 1, 1, 1/np.sqrt(2), 1/np.sqrt(2)\n",
    "rx0, ry0 = R**2/dx0, R**2/dy0\n",
    "rx1, ry1 = R**2/dx1, R**2/dy1\n",
    "\n",
    "N = 10\n",
    "\n",
    "kdp = np.linspace(0, 1, N)\n",
    "ldp = np.linspace(0, 1, N)\n",
    "\n",
    "sk, ck = np.sin(kdp), np.cos(kdp)\n",
    "sl, cl = np.sin(ldp), np.cos(ldp)"
   ]
  },
  {
   "cell_type": "code",
   "execution_count": 561,
   "id": "0d3d398b-1368-41c1-9331-d7f6fd3632de",
   "metadata": {},
   "outputs": [],
   "source": [
    "K0, L0 = np.meshgrid(kdp, ldp)\n",
    "Z0 = 1 + rx0**2*np.sin(K0)**2*np.cos(L0)**2 + ry0**2*np.sin(L0)**2*np.cos(K0)**2\n",
    "\n",
    "K1, L1 = np.meshgrid(kdp, ldp)\n",
    "Z1 = 1 + rx1**2*np.sin(K1)**2*np.cos(L1)**2 + ry1**2*np.sin(L1)**2*np.cos(K1)**2\n",
    "\n",
    "fig, axs = plt.subplots(figsize=(8, 4), ncols=2, subplot_kw={\"projection\": \"3d\"})\n",
    "\n",
    "axs[0].plot_surface(K0, L0, np.sqrt(Z0), cmap='coolwarm', antialiased=False)\n",
    "axs[0].set_title('wavevector aligned')\n",
    "axs[1].plot_surface(K1, L1, np.sqrt(Z1), cmap='coolwarm', antialiased=False)\n",
    "axs[1].set_title('wavevector 45 deg offset')\n",
    "\n",
    "for ax in axs:\n",
    "    ax.set_xlabel('$s_k$', fontsize=12)\n",
    "    ax.set_ylabel('$s_l$', fontsize=12)\n",
    "    ax.set_zlabel('$\\omega$ / f', fontsize=12)\n",
    "\n",
    "# plt.show()\n",
    "plt.savefig('figs/dispersion.png', dpi=300, bbox_inches='tight')"
   ]
  }
 ],
 "metadata": {
  "kernelspec": {
   "display_name": "Python 3 (ipykernel)",
   "language": "python",
   "name": "python3"
  },
  "language_info": {
   "codemirror_mode": {
    "name": "ipython",
    "version": 3
   },
   "file_extension": ".py",
   "mimetype": "text/x-python",
   "name": "python",
   "nbconvert_exporter": "python",
   "pygments_lexer": "ipython3",
   "version": "3.10.5"
  }
 },
 "nbformat": 4,
 "nbformat_minor": 5
}
