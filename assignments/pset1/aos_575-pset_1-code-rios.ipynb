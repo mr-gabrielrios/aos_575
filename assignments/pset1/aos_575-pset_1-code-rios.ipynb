{
 "cells": [
  {
   "cell_type": "code",
   "execution_count": 2,
   "id": "dc4d08b1-1c20-4e73-88af-5b1b7108a742",
   "metadata": {},
   "outputs": [],
   "source": [
    "import numpy as np\n",
    "import matplotlib.pyplot as plt"
   ]
  },
  {
   "cell_type": "markdown",
   "id": "8de91bf8-2be5-4b80-bee3-8b396c726bd9",
   "metadata": {},
   "source": [
    "### Problem 3: Lorenz equation discretization"
   ]
  },
  {
   "cell_type": "markdown",
   "id": "62cfc276-737e-4310-83ce-a4aad3381b7d",
   "metadata": {},
   "source": [
    "This is ugly but it works. Future work would include creating a single Runge-Kutta method to account for all variables discretized herein."
   ]
  },
  {
   "cell_type": "code",
   "execution_count": 82,
   "id": "69e150c8-a7c3-4088-b67f-c2ae55efe069",
   "metadata": {},
   "outputs": [],
   "source": [
    "# Define differential functions for each coordinate direction\n",
    "def F_x(x, y, z, t, r):\n",
    "    return -3*(x - y)\n",
    "def F_y(x, y, z, t, r):\n",
    "    return -x*z + r*x - y\n",
    "def F_z(x, y, z, t, r):\n",
    "    return x*y - z\n",
    "\n",
    "# Define the RK2 Heun method for each coordinate direction.\n",
    "# All three methods are equivalent, just for different directions.\n",
    "def diff_x(x, y, z, t, dt, r):\n",
    "    # Define Heun-specific coefficients\n",
    "    a, b, c = 1, 1/2, 1\n",
    "    # Calculate xi values\n",
    "    xi_1 = x\n",
    "    xi_2 = x + dt*a*F_x(x, y, z, t, r)\n",
    "    # Calculate approximation for timestep (n+1)\n",
    "    x_ = x + dt*(b*F_x(xi_1, y, z, t + c*dt, r) + b*F_x(xi_2, y, z, t + c*dt, r))\n",
    "    return x_\n",
    "def diff_y(x, y, z, t, dt, r):\n",
    "    a, b, c = 1, 1/2, 1\n",
    "    xi_1 = y\n",
    "    xi_2 = y + dt*a*F_y(x, y, z, t, r)\n",
    "    y_ = y + dt*(b*F_y(x, xi_1, z, t + c*dt, r) + b*F_y(x, xi_2, z, t + c*dt, r))\n",
    "    return y_\n",
    "def diff_z(x, y, z, t, dt, r):\n",
    "    a, b, c = 1, 1/2, 1\n",
    "    xi_1 = z\n",
    "    xi_2 = z + dt*a*F_z(x, y, z, t, r)\n",
    "    z_ = z + dt*(b*F_z(x, y, xi_1, t + c*dt, r) + b*F_z(x, y, xi_2, t + c*dt, r))\n",
    "    return z_\n",
    "\n",
    "# Define initial values\n",
    "r = 25\n",
    "x_0, y_0, z_0 = 1, 1, 1\n",
    "# Initialize arrays to store x, y, z values\n",
    "x = np.array([x_0])\n",
    "y = np.array([y_0])\n",
    "z = np.array([z_0])\n",
    "\n",
    "# Define time and timestep\n",
    "dt, t_0 = 0.01, 0\n",
    "t = np.array([t_0])\n",
    "N = 15000 # number of steps\n",
    "\n",
    "# Iterate through timesteps\n",
    "for i in range(0, N):\n",
    "    # Generate x^{n-1}\n",
    "    x_ = diff_x(x[i], y[i], z[i], t[i], dt, r)\n",
    "    x = np.append(x, x_)\n",
    "    # Generate y^{n-1}\n",
    "    y_ = diff_y(x[i], y[i], z[i], t[i], dt, r)\n",
    "    y = np.append(y, y_)\n",
    "    # Generate z^{n-1}\n",
    "    z_ = diff_z(x[i], y[i], z[i], t[i], dt, r)\n",
    "    z = np.append(z, z_)\n",
    "    # Step forward in time\n",
    "    t = np.append(t, t[i] + dt)"
   ]
  }
 ],
 "metadata": {
  "kernelspec": {
   "display_name": "Python 3 (ipykernel)",
   "language": "python",
   "name": "python3"
  },
  "language_info": {
   "codemirror_mode": {
    "name": "ipython",
    "version": 3
   },
   "file_extension": ".py",
   "mimetype": "text/x-python",
   "name": "python",
   "nbconvert_exporter": "python",
   "pygments_lexer": "ipython3",
   "version": "3.10.5"
  }
 },
 "nbformat": 4,
 "nbformat_minor": 5
}
